{
  "nbformat": 4,
  "nbformat_minor": 0,
  "metadata": {
    "colab": {
      "provenance": []
    },
    "kernelspec": {
      "name": "python3",
      "display_name": "Python 3"
    },
    "language_info": {
      "name": "python"
    },
    "widgets": {
      "application/vnd.jupyter.widget-state+json": {
        "be9bcb25ba414077b0ba353ece7a48a6": {
          "model_module": "@jupyter-widgets/controls",
          "model_name": "HBoxModel",
          "model_module_version": "1.5.0",
          "state": {
            "_dom_classes": [],
            "_model_module": "@jupyter-widgets/controls",
            "_model_module_version": "1.5.0",
            "_model_name": "HBoxModel",
            "_view_count": null,
            "_view_module": "@jupyter-widgets/controls",
            "_view_module_version": "1.5.0",
            "_view_name": "HBoxView",
            "box_style": "",
            "children": [
              "IPY_MODEL_5e2cb8faf91d4310bd7efa84d5b5c2d5",
              "IPY_MODEL_aa15377278904c35b025da9e5c6cf304",
              "IPY_MODEL_365b9ed57c06467ebb8cdec6bd2d2fb7"
            ],
            "layout": "IPY_MODEL_57d1c43aea07411bae17eb094650bf2f"
          }
        },
        "5e2cb8faf91d4310bd7efa84d5b5c2d5": {
          "model_module": "@jupyter-widgets/controls",
          "model_name": "HTMLModel",
          "model_module_version": "1.5.0",
          "state": {
            "_dom_classes": [],
            "_model_module": "@jupyter-widgets/controls",
            "_model_module_version": "1.5.0",
            "_model_name": "HTMLModel",
            "_view_count": null,
            "_view_module": "@jupyter-widgets/controls",
            "_view_module_version": "1.5.0",
            "_view_name": "HTMLView",
            "description": "",
            "description_tooltip": null,
            "layout": "IPY_MODEL_ae048c4b2b9a427b981444aa5c9fde69",
            "placeholder": "​",
            "style": "IPY_MODEL_a1025d8891f04e279ea07cbe0463c77a",
            "value": "tokenizer_config.json: 100%"
          }
        },
        "aa15377278904c35b025da9e5c6cf304": {
          "model_module": "@jupyter-widgets/controls",
          "model_name": "FloatProgressModel",
          "model_module_version": "1.5.0",
          "state": {
            "_dom_classes": [],
            "_model_module": "@jupyter-widgets/controls",
            "_model_module_version": "1.5.0",
            "_model_name": "FloatProgressModel",
            "_view_count": null,
            "_view_module": "@jupyter-widgets/controls",
            "_view_module_version": "1.5.0",
            "_view_name": "ProgressView",
            "bar_style": "success",
            "description": "",
            "description_tooltip": null,
            "layout": "IPY_MODEL_1d5d5957bf1440bc8f5fc47e83e964c5",
            "max": 25,
            "min": 0,
            "orientation": "horizontal",
            "style": "IPY_MODEL_4b7edc230b6c42809ddea524fc4302b3",
            "value": 25
          }
        },
        "365b9ed57c06467ebb8cdec6bd2d2fb7": {
          "model_module": "@jupyter-widgets/controls",
          "model_name": "HTMLModel",
          "model_module_version": "1.5.0",
          "state": {
            "_dom_classes": [],
            "_model_module": "@jupyter-widgets/controls",
            "_model_module_version": "1.5.0",
            "_model_name": "HTMLModel",
            "_view_count": null,
            "_view_module": "@jupyter-widgets/controls",
            "_view_module_version": "1.5.0",
            "_view_name": "HTMLView",
            "description": "",
            "description_tooltip": null,
            "layout": "IPY_MODEL_ca8d8e19afc54c168d853d6a925d4078",
            "placeholder": "​",
            "style": "IPY_MODEL_5f7578f59cbd490ea2c121fa42ed1b68",
            "value": " 25.0/25.0 [00:00&lt;00:00, 1.19kB/s]"
          }
        },
        "57d1c43aea07411bae17eb094650bf2f": {
          "model_module": "@jupyter-widgets/base",
          "model_name": "LayoutModel",
          "model_module_version": "1.2.0",
          "state": {
            "_model_module": "@jupyter-widgets/base",
            "_model_module_version": "1.2.0",
            "_model_name": "LayoutModel",
            "_view_count": null,
            "_view_module": "@jupyter-widgets/base",
            "_view_module_version": "1.2.0",
            "_view_name": "LayoutView",
            "align_content": null,
            "align_items": null,
            "align_self": null,
            "border": null,
            "bottom": null,
            "display": null,
            "flex": null,
            "flex_flow": null,
            "grid_area": null,
            "grid_auto_columns": null,
            "grid_auto_flow": null,
            "grid_auto_rows": null,
            "grid_column": null,
            "grid_gap": null,
            "grid_row": null,
            "grid_template_areas": null,
            "grid_template_columns": null,
            "grid_template_rows": null,
            "height": null,
            "justify_content": null,
            "justify_items": null,
            "left": null,
            "margin": null,
            "max_height": null,
            "max_width": null,
            "min_height": null,
            "min_width": null,
            "object_fit": null,
            "object_position": null,
            "order": null,
            "overflow": null,
            "overflow_x": null,
            "overflow_y": null,
            "padding": null,
            "right": null,
            "top": null,
            "visibility": null,
            "width": null
          }
        },
        "ae048c4b2b9a427b981444aa5c9fde69": {
          "model_module": "@jupyter-widgets/base",
          "model_name": "LayoutModel",
          "model_module_version": "1.2.0",
          "state": {
            "_model_module": "@jupyter-widgets/base",
            "_model_module_version": "1.2.0",
            "_model_name": "LayoutModel",
            "_view_count": null,
            "_view_module": "@jupyter-widgets/base",
            "_view_module_version": "1.2.0",
            "_view_name": "LayoutView",
            "align_content": null,
            "align_items": null,
            "align_self": null,
            "border": null,
            "bottom": null,
            "display": null,
            "flex": null,
            "flex_flow": null,
            "grid_area": null,
            "grid_auto_columns": null,
            "grid_auto_flow": null,
            "grid_auto_rows": null,
            "grid_column": null,
            "grid_gap": null,
            "grid_row": null,
            "grid_template_areas": null,
            "grid_template_columns": null,
            "grid_template_rows": null,
            "height": null,
            "justify_content": null,
            "justify_items": null,
            "left": null,
            "margin": null,
            "max_height": null,
            "max_width": null,
            "min_height": null,
            "min_width": null,
            "object_fit": null,
            "object_position": null,
            "order": null,
            "overflow": null,
            "overflow_x": null,
            "overflow_y": null,
            "padding": null,
            "right": null,
            "top": null,
            "visibility": null,
            "width": null
          }
        },
        "a1025d8891f04e279ea07cbe0463c77a": {
          "model_module": "@jupyter-widgets/controls",
          "model_name": "DescriptionStyleModel",
          "model_module_version": "1.5.0",
          "state": {
            "_model_module": "@jupyter-widgets/controls",
            "_model_module_version": "1.5.0",
            "_model_name": "DescriptionStyleModel",
            "_view_count": null,
            "_view_module": "@jupyter-widgets/base",
            "_view_module_version": "1.2.0",
            "_view_name": "StyleView",
            "description_width": ""
          }
        },
        "1d5d5957bf1440bc8f5fc47e83e964c5": {
          "model_module": "@jupyter-widgets/base",
          "model_name": "LayoutModel",
          "model_module_version": "1.2.0",
          "state": {
            "_model_module": "@jupyter-widgets/base",
            "_model_module_version": "1.2.0",
            "_model_name": "LayoutModel",
            "_view_count": null,
            "_view_module": "@jupyter-widgets/base",
            "_view_module_version": "1.2.0",
            "_view_name": "LayoutView",
            "align_content": null,
            "align_items": null,
            "align_self": null,
            "border": null,
            "bottom": null,
            "display": null,
            "flex": null,
            "flex_flow": null,
            "grid_area": null,
            "grid_auto_columns": null,
            "grid_auto_flow": null,
            "grid_auto_rows": null,
            "grid_column": null,
            "grid_gap": null,
            "grid_row": null,
            "grid_template_areas": null,
            "grid_template_columns": null,
            "grid_template_rows": null,
            "height": null,
            "justify_content": null,
            "justify_items": null,
            "left": null,
            "margin": null,
            "max_height": null,
            "max_width": null,
            "min_height": null,
            "min_width": null,
            "object_fit": null,
            "object_position": null,
            "order": null,
            "overflow": null,
            "overflow_x": null,
            "overflow_y": null,
            "padding": null,
            "right": null,
            "top": null,
            "visibility": null,
            "width": null
          }
        },
        "4b7edc230b6c42809ddea524fc4302b3": {
          "model_module": "@jupyter-widgets/controls",
          "model_name": "ProgressStyleModel",
          "model_module_version": "1.5.0",
          "state": {
            "_model_module": "@jupyter-widgets/controls",
            "_model_module_version": "1.5.0",
            "_model_name": "ProgressStyleModel",
            "_view_count": null,
            "_view_module": "@jupyter-widgets/base",
            "_view_module_version": "1.2.0",
            "_view_name": "StyleView",
            "bar_color": null,
            "description_width": ""
          }
        },
        "ca8d8e19afc54c168d853d6a925d4078": {
          "model_module": "@jupyter-widgets/base",
          "model_name": "LayoutModel",
          "model_module_version": "1.2.0",
          "state": {
            "_model_module": "@jupyter-widgets/base",
            "_model_module_version": "1.2.0",
            "_model_name": "LayoutModel",
            "_view_count": null,
            "_view_module": "@jupyter-widgets/base",
            "_view_module_version": "1.2.0",
            "_view_name": "LayoutView",
            "align_content": null,
            "align_items": null,
            "align_self": null,
            "border": null,
            "bottom": null,
            "display": null,
            "flex": null,
            "flex_flow": null,
            "grid_area": null,
            "grid_auto_columns": null,
            "grid_auto_flow": null,
            "grid_auto_rows": null,
            "grid_column": null,
            "grid_gap": null,
            "grid_row": null,
            "grid_template_areas": null,
            "grid_template_columns": null,
            "grid_template_rows": null,
            "height": null,
            "justify_content": null,
            "justify_items": null,
            "left": null,
            "margin": null,
            "max_height": null,
            "max_width": null,
            "min_height": null,
            "min_width": null,
            "object_fit": null,
            "object_position": null,
            "order": null,
            "overflow": null,
            "overflow_x": null,
            "overflow_y": null,
            "padding": null,
            "right": null,
            "top": null,
            "visibility": null,
            "width": null
          }
        },
        "5f7578f59cbd490ea2c121fa42ed1b68": {
          "model_module": "@jupyter-widgets/controls",
          "model_name": "DescriptionStyleModel",
          "model_module_version": "1.5.0",
          "state": {
            "_model_module": "@jupyter-widgets/controls",
            "_model_module_version": "1.5.0",
            "_model_name": "DescriptionStyleModel",
            "_view_count": null,
            "_view_module": "@jupyter-widgets/base",
            "_view_module_version": "1.2.0",
            "_view_name": "StyleView",
            "description_width": ""
          }
        },
        "9e9ab7ecf5714207b0e5021c08431e33": {
          "model_module": "@jupyter-widgets/controls",
          "model_name": "HBoxModel",
          "model_module_version": "1.5.0",
          "state": {
            "_dom_classes": [],
            "_model_module": "@jupyter-widgets/controls",
            "_model_module_version": "1.5.0",
            "_model_name": "HBoxModel",
            "_view_count": null,
            "_view_module": "@jupyter-widgets/controls",
            "_view_module_version": "1.5.0",
            "_view_name": "HBoxView",
            "box_style": "",
            "children": [
              "IPY_MODEL_1e06d10bdea1464d84fab709c115b132",
              "IPY_MODEL_5fbafaea4c174f6cbab15a3938a7dccb",
              "IPY_MODEL_78b107fa04484e49a9a4163a956b41c9"
            ],
            "layout": "IPY_MODEL_bc393d75929242b59a04ab52ae324bf5"
          }
        },
        "1e06d10bdea1464d84fab709c115b132": {
          "model_module": "@jupyter-widgets/controls",
          "model_name": "HTMLModel",
          "model_module_version": "1.5.0",
          "state": {
            "_dom_classes": [],
            "_model_module": "@jupyter-widgets/controls",
            "_model_module_version": "1.5.0",
            "_model_name": "HTMLModel",
            "_view_count": null,
            "_view_module": "@jupyter-widgets/controls",
            "_view_module_version": "1.5.0",
            "_view_name": "HTMLView",
            "description": "",
            "description_tooltip": null,
            "layout": "IPY_MODEL_e399d20847c5478ab88a12f45f87005c",
            "placeholder": "​",
            "style": "IPY_MODEL_db05c4160aaf4343b92bb3678a6f0851",
            "value": "vocab.json: 100%"
          }
        },
        "5fbafaea4c174f6cbab15a3938a7dccb": {
          "model_module": "@jupyter-widgets/controls",
          "model_name": "FloatProgressModel",
          "model_module_version": "1.5.0",
          "state": {
            "_dom_classes": [],
            "_model_module": "@jupyter-widgets/controls",
            "_model_module_version": "1.5.0",
            "_model_name": "FloatProgressModel",
            "_view_count": null,
            "_view_module": "@jupyter-widgets/controls",
            "_view_module_version": "1.5.0",
            "_view_name": "ProgressView",
            "bar_style": "success",
            "description": "",
            "description_tooltip": null,
            "layout": "IPY_MODEL_b4272e01b6634012b6b5d3f83ddd33de",
            "max": 898823,
            "min": 0,
            "orientation": "horizontal",
            "style": "IPY_MODEL_b4a7dcf8cd62432eab176bbe47ae4b14",
            "value": 898823
          }
        },
        "78b107fa04484e49a9a4163a956b41c9": {
          "model_module": "@jupyter-widgets/controls",
          "model_name": "HTMLModel",
          "model_module_version": "1.5.0",
          "state": {
            "_dom_classes": [],
            "_model_module": "@jupyter-widgets/controls",
            "_model_module_version": "1.5.0",
            "_model_name": "HTMLModel",
            "_view_count": null,
            "_view_module": "@jupyter-widgets/controls",
            "_view_module_version": "1.5.0",
            "_view_name": "HTMLView",
            "description": "",
            "description_tooltip": null,
            "layout": "IPY_MODEL_d269ffe0eaf940e58f8d3d8e546006b4",
            "placeholder": "​",
            "style": "IPY_MODEL_9eff3bfd19df429f982cfeaebcfe584e",
            "value": " 899k/899k [00:00&lt;00:00, 6.01MB/s]"
          }
        },
        "bc393d75929242b59a04ab52ae324bf5": {
          "model_module": "@jupyter-widgets/base",
          "model_name": "LayoutModel",
          "model_module_version": "1.2.0",
          "state": {
            "_model_module": "@jupyter-widgets/base",
            "_model_module_version": "1.2.0",
            "_model_name": "LayoutModel",
            "_view_count": null,
            "_view_module": "@jupyter-widgets/base",
            "_view_module_version": "1.2.0",
            "_view_name": "LayoutView",
            "align_content": null,
            "align_items": null,
            "align_self": null,
            "border": null,
            "bottom": null,
            "display": null,
            "flex": null,
            "flex_flow": null,
            "grid_area": null,
            "grid_auto_columns": null,
            "grid_auto_flow": null,
            "grid_auto_rows": null,
            "grid_column": null,
            "grid_gap": null,
            "grid_row": null,
            "grid_template_areas": null,
            "grid_template_columns": null,
            "grid_template_rows": null,
            "height": null,
            "justify_content": null,
            "justify_items": null,
            "left": null,
            "margin": null,
            "max_height": null,
            "max_width": null,
            "min_height": null,
            "min_width": null,
            "object_fit": null,
            "object_position": null,
            "order": null,
            "overflow": null,
            "overflow_x": null,
            "overflow_y": null,
            "padding": null,
            "right": null,
            "top": null,
            "visibility": null,
            "width": null
          }
        },
        "e399d20847c5478ab88a12f45f87005c": {
          "model_module": "@jupyter-widgets/base",
          "model_name": "LayoutModel",
          "model_module_version": "1.2.0",
          "state": {
            "_model_module": "@jupyter-widgets/base",
            "_model_module_version": "1.2.0",
            "_model_name": "LayoutModel",
            "_view_count": null,
            "_view_module": "@jupyter-widgets/base",
            "_view_module_version": "1.2.0",
            "_view_name": "LayoutView",
            "align_content": null,
            "align_items": null,
            "align_self": null,
            "border": null,
            "bottom": null,
            "display": null,
            "flex": null,
            "flex_flow": null,
            "grid_area": null,
            "grid_auto_columns": null,
            "grid_auto_flow": null,
            "grid_auto_rows": null,
            "grid_column": null,
            "grid_gap": null,
            "grid_row": null,
            "grid_template_areas": null,
            "grid_template_columns": null,
            "grid_template_rows": null,
            "height": null,
            "justify_content": null,
            "justify_items": null,
            "left": null,
            "margin": null,
            "max_height": null,
            "max_width": null,
            "min_height": null,
            "min_width": null,
            "object_fit": null,
            "object_position": null,
            "order": null,
            "overflow": null,
            "overflow_x": null,
            "overflow_y": null,
            "padding": null,
            "right": null,
            "top": null,
            "visibility": null,
            "width": null
          }
        },
        "db05c4160aaf4343b92bb3678a6f0851": {
          "model_module": "@jupyter-widgets/controls",
          "model_name": "DescriptionStyleModel",
          "model_module_version": "1.5.0",
          "state": {
            "_model_module": "@jupyter-widgets/controls",
            "_model_module_version": "1.5.0",
            "_model_name": "DescriptionStyleModel",
            "_view_count": null,
            "_view_module": "@jupyter-widgets/base",
            "_view_module_version": "1.2.0",
            "_view_name": "StyleView",
            "description_width": ""
          }
        },
        "b4272e01b6634012b6b5d3f83ddd33de": {
          "model_module": "@jupyter-widgets/base",
          "model_name": "LayoutModel",
          "model_module_version": "1.2.0",
          "state": {
            "_model_module": "@jupyter-widgets/base",
            "_model_module_version": "1.2.0",
            "_model_name": "LayoutModel",
            "_view_count": null,
            "_view_module": "@jupyter-widgets/base",
            "_view_module_version": "1.2.0",
            "_view_name": "LayoutView",
            "align_content": null,
            "align_items": null,
            "align_self": null,
            "border": null,
            "bottom": null,
            "display": null,
            "flex": null,
            "flex_flow": null,
            "grid_area": null,
            "grid_auto_columns": null,
            "grid_auto_flow": null,
            "grid_auto_rows": null,
            "grid_column": null,
            "grid_gap": null,
            "grid_row": null,
            "grid_template_areas": null,
            "grid_template_columns": null,
            "grid_template_rows": null,
            "height": null,
            "justify_content": null,
            "justify_items": null,
            "left": null,
            "margin": null,
            "max_height": null,
            "max_width": null,
            "min_height": null,
            "min_width": null,
            "object_fit": null,
            "object_position": null,
            "order": null,
            "overflow": null,
            "overflow_x": null,
            "overflow_y": null,
            "padding": null,
            "right": null,
            "top": null,
            "visibility": null,
            "width": null
          }
        },
        "b4a7dcf8cd62432eab176bbe47ae4b14": {
          "model_module": "@jupyter-widgets/controls",
          "model_name": "ProgressStyleModel",
          "model_module_version": "1.5.0",
          "state": {
            "_model_module": "@jupyter-widgets/controls",
            "_model_module_version": "1.5.0",
            "_model_name": "ProgressStyleModel",
            "_view_count": null,
            "_view_module": "@jupyter-widgets/base",
            "_view_module_version": "1.2.0",
            "_view_name": "StyleView",
            "bar_color": null,
            "description_width": ""
          }
        },
        "d269ffe0eaf940e58f8d3d8e546006b4": {
          "model_module": "@jupyter-widgets/base",
          "model_name": "LayoutModel",
          "model_module_version": "1.2.0",
          "state": {
            "_model_module": "@jupyter-widgets/base",
            "_model_module_version": "1.2.0",
            "_model_name": "LayoutModel",
            "_view_count": null,
            "_view_module": "@jupyter-widgets/base",
            "_view_module_version": "1.2.0",
            "_view_name": "LayoutView",
            "align_content": null,
            "align_items": null,
            "align_self": null,
            "border": null,
            "bottom": null,
            "display": null,
            "flex": null,
            "flex_flow": null,
            "grid_area": null,
            "grid_auto_columns": null,
            "grid_auto_flow": null,
            "grid_auto_rows": null,
            "grid_column": null,
            "grid_gap": null,
            "grid_row": null,
            "grid_template_areas": null,
            "grid_template_columns": null,
            "grid_template_rows": null,
            "height": null,
            "justify_content": null,
            "justify_items": null,
            "left": null,
            "margin": null,
            "max_height": null,
            "max_width": null,
            "min_height": null,
            "min_width": null,
            "object_fit": null,
            "object_position": null,
            "order": null,
            "overflow": null,
            "overflow_x": null,
            "overflow_y": null,
            "padding": null,
            "right": null,
            "top": null,
            "visibility": null,
            "width": null
          }
        },
        "9eff3bfd19df429f982cfeaebcfe584e": {
          "model_module": "@jupyter-widgets/controls",
          "model_name": "DescriptionStyleModel",
          "model_module_version": "1.5.0",
          "state": {
            "_model_module": "@jupyter-widgets/controls",
            "_model_module_version": "1.5.0",
            "_model_name": "DescriptionStyleModel",
            "_view_count": null,
            "_view_module": "@jupyter-widgets/base",
            "_view_module_version": "1.2.0",
            "_view_name": "StyleView",
            "description_width": ""
          }
        },
        "e2df72610a1446828d6103d639fffefc": {
          "model_module": "@jupyter-widgets/controls",
          "model_name": "HBoxModel",
          "model_module_version": "1.5.0",
          "state": {
            "_dom_classes": [],
            "_model_module": "@jupyter-widgets/controls",
            "_model_module_version": "1.5.0",
            "_model_name": "HBoxModel",
            "_view_count": null,
            "_view_module": "@jupyter-widgets/controls",
            "_view_module_version": "1.5.0",
            "_view_name": "HBoxView",
            "box_style": "",
            "children": [
              "IPY_MODEL_1f7b0dfa26d34f8eb71f937023803f6f",
              "IPY_MODEL_22100393b7e9444d92f5b459776b0799",
              "IPY_MODEL_54ce31acb6f9480a81badffbca20593b"
            ],
            "layout": "IPY_MODEL_5c4ddd17b7164e3ea8e5f1a7588fc104"
          }
        },
        "1f7b0dfa26d34f8eb71f937023803f6f": {
          "model_module": "@jupyter-widgets/controls",
          "model_name": "HTMLModel",
          "model_module_version": "1.5.0",
          "state": {
            "_dom_classes": [],
            "_model_module": "@jupyter-widgets/controls",
            "_model_module_version": "1.5.0",
            "_model_name": "HTMLModel",
            "_view_count": null,
            "_view_module": "@jupyter-widgets/controls",
            "_view_module_version": "1.5.0",
            "_view_name": "HTMLView",
            "description": "",
            "description_tooltip": null,
            "layout": "IPY_MODEL_6d3473b0690b4acf83400105beb9195e",
            "placeholder": "​",
            "style": "IPY_MODEL_ccb41a4446d8468f8391b84645bf392a",
            "value": "merges.txt: 100%"
          }
        },
        "22100393b7e9444d92f5b459776b0799": {
          "model_module": "@jupyter-widgets/controls",
          "model_name": "FloatProgressModel",
          "model_module_version": "1.5.0",
          "state": {
            "_dom_classes": [],
            "_model_module": "@jupyter-widgets/controls",
            "_model_module_version": "1.5.0",
            "_model_name": "FloatProgressModel",
            "_view_count": null,
            "_view_module": "@jupyter-widgets/controls",
            "_view_module_version": "1.5.0",
            "_view_name": "ProgressView",
            "bar_style": "success",
            "description": "",
            "description_tooltip": null,
            "layout": "IPY_MODEL_5cf059535145401abe81f17437c00577",
            "max": 456318,
            "min": 0,
            "orientation": "horizontal",
            "style": "IPY_MODEL_2275514309b44977a658b5119ab40d89",
            "value": 456318
          }
        },
        "54ce31acb6f9480a81badffbca20593b": {
          "model_module": "@jupyter-widgets/controls",
          "model_name": "HTMLModel",
          "model_module_version": "1.5.0",
          "state": {
            "_dom_classes": [],
            "_model_module": "@jupyter-widgets/controls",
            "_model_module_version": "1.5.0",
            "_model_name": "HTMLModel",
            "_view_count": null,
            "_view_module": "@jupyter-widgets/controls",
            "_view_module_version": "1.5.0",
            "_view_name": "HTMLView",
            "description": "",
            "description_tooltip": null,
            "layout": "IPY_MODEL_2e70dd456c9a42b3afc081667d236353",
            "placeholder": "​",
            "style": "IPY_MODEL_4a5fccf0c5fe46c8b9a063abbdf0420b",
            "value": " 456k/456k [00:00&lt;00:00, 16.3MB/s]"
          }
        },
        "5c4ddd17b7164e3ea8e5f1a7588fc104": {
          "model_module": "@jupyter-widgets/base",
          "model_name": "LayoutModel",
          "model_module_version": "1.2.0",
          "state": {
            "_model_module": "@jupyter-widgets/base",
            "_model_module_version": "1.2.0",
            "_model_name": "LayoutModel",
            "_view_count": null,
            "_view_module": "@jupyter-widgets/base",
            "_view_module_version": "1.2.0",
            "_view_name": "LayoutView",
            "align_content": null,
            "align_items": null,
            "align_self": null,
            "border": null,
            "bottom": null,
            "display": null,
            "flex": null,
            "flex_flow": null,
            "grid_area": null,
            "grid_auto_columns": null,
            "grid_auto_flow": null,
            "grid_auto_rows": null,
            "grid_column": null,
            "grid_gap": null,
            "grid_row": null,
            "grid_template_areas": null,
            "grid_template_columns": null,
            "grid_template_rows": null,
            "height": null,
            "justify_content": null,
            "justify_items": null,
            "left": null,
            "margin": null,
            "max_height": null,
            "max_width": null,
            "min_height": null,
            "min_width": null,
            "object_fit": null,
            "object_position": null,
            "order": null,
            "overflow": null,
            "overflow_x": null,
            "overflow_y": null,
            "padding": null,
            "right": null,
            "top": null,
            "visibility": null,
            "width": null
          }
        },
        "6d3473b0690b4acf83400105beb9195e": {
          "model_module": "@jupyter-widgets/base",
          "model_name": "LayoutModel",
          "model_module_version": "1.2.0",
          "state": {
            "_model_module": "@jupyter-widgets/base",
            "_model_module_version": "1.2.0",
            "_model_name": "LayoutModel",
            "_view_count": null,
            "_view_module": "@jupyter-widgets/base",
            "_view_module_version": "1.2.0",
            "_view_name": "LayoutView",
            "align_content": null,
            "align_items": null,
            "align_self": null,
            "border": null,
            "bottom": null,
            "display": null,
            "flex": null,
            "flex_flow": null,
            "grid_area": null,
            "grid_auto_columns": null,
            "grid_auto_flow": null,
            "grid_auto_rows": null,
            "grid_column": null,
            "grid_gap": null,
            "grid_row": null,
            "grid_template_areas": null,
            "grid_template_columns": null,
            "grid_template_rows": null,
            "height": null,
            "justify_content": null,
            "justify_items": null,
            "left": null,
            "margin": null,
            "max_height": null,
            "max_width": null,
            "min_height": null,
            "min_width": null,
            "object_fit": null,
            "object_position": null,
            "order": null,
            "overflow": null,
            "overflow_x": null,
            "overflow_y": null,
            "padding": null,
            "right": null,
            "top": null,
            "visibility": null,
            "width": null
          }
        },
        "ccb41a4446d8468f8391b84645bf392a": {
          "model_module": "@jupyter-widgets/controls",
          "model_name": "DescriptionStyleModel",
          "model_module_version": "1.5.0",
          "state": {
            "_model_module": "@jupyter-widgets/controls",
            "_model_module_version": "1.5.0",
            "_model_name": "DescriptionStyleModel",
            "_view_count": null,
            "_view_module": "@jupyter-widgets/base",
            "_view_module_version": "1.2.0",
            "_view_name": "StyleView",
            "description_width": ""
          }
        },
        "5cf059535145401abe81f17437c00577": {
          "model_module": "@jupyter-widgets/base",
          "model_name": "LayoutModel",
          "model_module_version": "1.2.0",
          "state": {
            "_model_module": "@jupyter-widgets/base",
            "_model_module_version": "1.2.0",
            "_model_name": "LayoutModel",
            "_view_count": null,
            "_view_module": "@jupyter-widgets/base",
            "_view_module_version": "1.2.0",
            "_view_name": "LayoutView",
            "align_content": null,
            "align_items": null,
            "align_self": null,
            "border": null,
            "bottom": null,
            "display": null,
            "flex": null,
            "flex_flow": null,
            "grid_area": null,
            "grid_auto_columns": null,
            "grid_auto_flow": null,
            "grid_auto_rows": null,
            "grid_column": null,
            "grid_gap": null,
            "grid_row": null,
            "grid_template_areas": null,
            "grid_template_columns": null,
            "grid_template_rows": null,
            "height": null,
            "justify_content": null,
            "justify_items": null,
            "left": null,
            "margin": null,
            "max_height": null,
            "max_width": null,
            "min_height": null,
            "min_width": null,
            "object_fit": null,
            "object_position": null,
            "order": null,
            "overflow": null,
            "overflow_x": null,
            "overflow_y": null,
            "padding": null,
            "right": null,
            "top": null,
            "visibility": null,
            "width": null
          }
        },
        "2275514309b44977a658b5119ab40d89": {
          "model_module": "@jupyter-widgets/controls",
          "model_name": "ProgressStyleModel",
          "model_module_version": "1.5.0",
          "state": {
            "_model_module": "@jupyter-widgets/controls",
            "_model_module_version": "1.5.0",
            "_model_name": "ProgressStyleModel",
            "_view_count": null,
            "_view_module": "@jupyter-widgets/base",
            "_view_module_version": "1.2.0",
            "_view_name": "StyleView",
            "bar_color": null,
            "description_width": ""
          }
        },
        "2e70dd456c9a42b3afc081667d236353": {
          "model_module": "@jupyter-widgets/base",
          "model_name": "LayoutModel",
          "model_module_version": "1.2.0",
          "state": {
            "_model_module": "@jupyter-widgets/base",
            "_model_module_version": "1.2.0",
            "_model_name": "LayoutModel",
            "_view_count": null,
            "_view_module": "@jupyter-widgets/base",
            "_view_module_version": "1.2.0",
            "_view_name": "LayoutView",
            "align_content": null,
            "align_items": null,
            "align_self": null,
            "border": null,
            "bottom": null,
            "display": null,
            "flex": null,
            "flex_flow": null,
            "grid_area": null,
            "grid_auto_columns": null,
            "grid_auto_flow": null,
            "grid_auto_rows": null,
            "grid_column": null,
            "grid_gap": null,
            "grid_row": null,
            "grid_template_areas": null,
            "grid_template_columns": null,
            "grid_template_rows": null,
            "height": null,
            "justify_content": null,
            "justify_items": null,
            "left": null,
            "margin": null,
            "max_height": null,
            "max_width": null,
            "min_height": null,
            "min_width": null,
            "object_fit": null,
            "object_position": null,
            "order": null,
            "overflow": null,
            "overflow_x": null,
            "overflow_y": null,
            "padding": null,
            "right": null,
            "top": null,
            "visibility": null,
            "width": null
          }
        },
        "4a5fccf0c5fe46c8b9a063abbdf0420b": {
          "model_module": "@jupyter-widgets/controls",
          "model_name": "DescriptionStyleModel",
          "model_module_version": "1.5.0",
          "state": {
            "_model_module": "@jupyter-widgets/controls",
            "_model_module_version": "1.5.0",
            "_model_name": "DescriptionStyleModel",
            "_view_count": null,
            "_view_module": "@jupyter-widgets/base",
            "_view_module_version": "1.2.0",
            "_view_name": "StyleView",
            "description_width": ""
          }
        },
        "711da2dcffd54679a7ebac9b93b59895": {
          "model_module": "@jupyter-widgets/controls",
          "model_name": "HBoxModel",
          "model_module_version": "1.5.0",
          "state": {
            "_dom_classes": [],
            "_model_module": "@jupyter-widgets/controls",
            "_model_module_version": "1.5.0",
            "_model_name": "HBoxModel",
            "_view_count": null,
            "_view_module": "@jupyter-widgets/controls",
            "_view_module_version": "1.5.0",
            "_view_name": "HBoxView",
            "box_style": "",
            "children": [
              "IPY_MODEL_cecf6ddd770e40119861ff91b04d9ad5",
              "IPY_MODEL_c5fb3f1dbef74fd5a2d075c4a2c3e3c4",
              "IPY_MODEL_fdc682a9d8a04be4804559e39328c496"
            ],
            "layout": "IPY_MODEL_b92076f50a4f43f8999b7e511bbbd8dd"
          }
        },
        "cecf6ddd770e40119861ff91b04d9ad5": {
          "model_module": "@jupyter-widgets/controls",
          "model_name": "HTMLModel",
          "model_module_version": "1.5.0",
          "state": {
            "_dom_classes": [],
            "_model_module": "@jupyter-widgets/controls",
            "_model_module_version": "1.5.0",
            "_model_name": "HTMLModel",
            "_view_count": null,
            "_view_module": "@jupyter-widgets/controls",
            "_view_module_version": "1.5.0",
            "_view_name": "HTMLView",
            "description": "",
            "description_tooltip": null,
            "layout": "IPY_MODEL_33b5e4c3e0f043cf8d879e5fe818f898",
            "placeholder": "​",
            "style": "IPY_MODEL_98332e16461f44458e600aacf7f1e027",
            "value": "tokenizer.json: 100%"
          }
        },
        "c5fb3f1dbef74fd5a2d075c4a2c3e3c4": {
          "model_module": "@jupyter-widgets/controls",
          "model_name": "FloatProgressModel",
          "model_module_version": "1.5.0",
          "state": {
            "_dom_classes": [],
            "_model_module": "@jupyter-widgets/controls",
            "_model_module_version": "1.5.0",
            "_model_name": "FloatProgressModel",
            "_view_count": null,
            "_view_module": "@jupyter-widgets/controls",
            "_view_module_version": "1.5.0",
            "_view_name": "ProgressView",
            "bar_style": "success",
            "description": "",
            "description_tooltip": null,
            "layout": "IPY_MODEL_246c171ad469458196c3d59eb8a34fb0",
            "max": 1355863,
            "min": 0,
            "orientation": "horizontal",
            "style": "IPY_MODEL_19d60fe4a913452aaf557fc7b2cfb111",
            "value": 1355863
          }
        },
        "fdc682a9d8a04be4804559e39328c496": {
          "model_module": "@jupyter-widgets/controls",
          "model_name": "HTMLModel",
          "model_module_version": "1.5.0",
          "state": {
            "_dom_classes": [],
            "_model_module": "@jupyter-widgets/controls",
            "_model_module_version": "1.5.0",
            "_model_name": "HTMLModel",
            "_view_count": null,
            "_view_module": "@jupyter-widgets/controls",
            "_view_module_version": "1.5.0",
            "_view_name": "HTMLView",
            "description": "",
            "description_tooltip": null,
            "layout": "IPY_MODEL_e1d6e5de00ff4289993e709dfea715fd",
            "placeholder": "​",
            "style": "IPY_MODEL_267d34f1f05b41e5ae0f1fb5d8abff74",
            "value": " 1.36M/1.36M [00:00&lt;00:00, 3.90MB/s]"
          }
        },
        "b92076f50a4f43f8999b7e511bbbd8dd": {
          "model_module": "@jupyter-widgets/base",
          "model_name": "LayoutModel",
          "model_module_version": "1.2.0",
          "state": {
            "_model_module": "@jupyter-widgets/base",
            "_model_module_version": "1.2.0",
            "_model_name": "LayoutModel",
            "_view_count": null,
            "_view_module": "@jupyter-widgets/base",
            "_view_module_version": "1.2.0",
            "_view_name": "LayoutView",
            "align_content": null,
            "align_items": null,
            "align_self": null,
            "border": null,
            "bottom": null,
            "display": null,
            "flex": null,
            "flex_flow": null,
            "grid_area": null,
            "grid_auto_columns": null,
            "grid_auto_flow": null,
            "grid_auto_rows": null,
            "grid_column": null,
            "grid_gap": null,
            "grid_row": null,
            "grid_template_areas": null,
            "grid_template_columns": null,
            "grid_template_rows": null,
            "height": null,
            "justify_content": null,
            "justify_items": null,
            "left": null,
            "margin": null,
            "max_height": null,
            "max_width": null,
            "min_height": null,
            "min_width": null,
            "object_fit": null,
            "object_position": null,
            "order": null,
            "overflow": null,
            "overflow_x": null,
            "overflow_y": null,
            "padding": null,
            "right": null,
            "top": null,
            "visibility": null,
            "width": null
          }
        },
        "33b5e4c3e0f043cf8d879e5fe818f898": {
          "model_module": "@jupyter-widgets/base",
          "model_name": "LayoutModel",
          "model_module_version": "1.2.0",
          "state": {
            "_model_module": "@jupyter-widgets/base",
            "_model_module_version": "1.2.0",
            "_model_name": "LayoutModel",
            "_view_count": null,
            "_view_module": "@jupyter-widgets/base",
            "_view_module_version": "1.2.0",
            "_view_name": "LayoutView",
            "align_content": null,
            "align_items": null,
            "align_self": null,
            "border": null,
            "bottom": null,
            "display": null,
            "flex": null,
            "flex_flow": null,
            "grid_area": null,
            "grid_auto_columns": null,
            "grid_auto_flow": null,
            "grid_auto_rows": null,
            "grid_column": null,
            "grid_gap": null,
            "grid_row": null,
            "grid_template_areas": null,
            "grid_template_columns": null,
            "grid_template_rows": null,
            "height": null,
            "justify_content": null,
            "justify_items": null,
            "left": null,
            "margin": null,
            "max_height": null,
            "max_width": null,
            "min_height": null,
            "min_width": null,
            "object_fit": null,
            "object_position": null,
            "order": null,
            "overflow": null,
            "overflow_x": null,
            "overflow_y": null,
            "padding": null,
            "right": null,
            "top": null,
            "visibility": null,
            "width": null
          }
        },
        "98332e16461f44458e600aacf7f1e027": {
          "model_module": "@jupyter-widgets/controls",
          "model_name": "DescriptionStyleModel",
          "model_module_version": "1.5.0",
          "state": {
            "_model_module": "@jupyter-widgets/controls",
            "_model_module_version": "1.5.0",
            "_model_name": "DescriptionStyleModel",
            "_view_count": null,
            "_view_module": "@jupyter-widgets/base",
            "_view_module_version": "1.2.0",
            "_view_name": "StyleView",
            "description_width": ""
          }
        },
        "246c171ad469458196c3d59eb8a34fb0": {
          "model_module": "@jupyter-widgets/base",
          "model_name": "LayoutModel",
          "model_module_version": "1.2.0",
          "state": {
            "_model_module": "@jupyter-widgets/base",
            "_model_module_version": "1.2.0",
            "_model_name": "LayoutModel",
            "_view_count": null,
            "_view_module": "@jupyter-widgets/base",
            "_view_module_version": "1.2.0",
            "_view_name": "LayoutView",
            "align_content": null,
            "align_items": null,
            "align_self": null,
            "border": null,
            "bottom": null,
            "display": null,
            "flex": null,
            "flex_flow": null,
            "grid_area": null,
            "grid_auto_columns": null,
            "grid_auto_flow": null,
            "grid_auto_rows": null,
            "grid_column": null,
            "grid_gap": null,
            "grid_row": null,
            "grid_template_areas": null,
            "grid_template_columns": null,
            "grid_template_rows": null,
            "height": null,
            "justify_content": null,
            "justify_items": null,
            "left": null,
            "margin": null,
            "max_height": null,
            "max_width": null,
            "min_height": null,
            "min_width": null,
            "object_fit": null,
            "object_position": null,
            "order": null,
            "overflow": null,
            "overflow_x": null,
            "overflow_y": null,
            "padding": null,
            "right": null,
            "top": null,
            "visibility": null,
            "width": null
          }
        },
        "19d60fe4a913452aaf557fc7b2cfb111": {
          "model_module": "@jupyter-widgets/controls",
          "model_name": "ProgressStyleModel",
          "model_module_version": "1.5.0",
          "state": {
            "_model_module": "@jupyter-widgets/controls",
            "_model_module_version": "1.5.0",
            "_model_name": "ProgressStyleModel",
            "_view_count": null,
            "_view_module": "@jupyter-widgets/base",
            "_view_module_version": "1.2.0",
            "_view_name": "StyleView",
            "bar_color": null,
            "description_width": ""
          }
        },
        "e1d6e5de00ff4289993e709dfea715fd": {
          "model_module": "@jupyter-widgets/base",
          "model_name": "LayoutModel",
          "model_module_version": "1.2.0",
          "state": {
            "_model_module": "@jupyter-widgets/base",
            "_model_module_version": "1.2.0",
            "_model_name": "LayoutModel",
            "_view_count": null,
            "_view_module": "@jupyter-widgets/base",
            "_view_module_version": "1.2.0",
            "_view_name": "LayoutView",
            "align_content": null,
            "align_items": null,
            "align_self": null,
            "border": null,
            "bottom": null,
            "display": null,
            "flex": null,
            "flex_flow": null,
            "grid_area": null,
            "grid_auto_columns": null,
            "grid_auto_flow": null,
            "grid_auto_rows": null,
            "grid_column": null,
            "grid_gap": null,
            "grid_row": null,
            "grid_template_areas": null,
            "grid_template_columns": null,
            "grid_template_rows": null,
            "height": null,
            "justify_content": null,
            "justify_items": null,
            "left": null,
            "margin": null,
            "max_height": null,
            "max_width": null,
            "min_height": null,
            "min_width": null,
            "object_fit": null,
            "object_position": null,
            "order": null,
            "overflow": null,
            "overflow_x": null,
            "overflow_y": null,
            "padding": null,
            "right": null,
            "top": null,
            "visibility": null,
            "width": null
          }
        },
        "267d34f1f05b41e5ae0f1fb5d8abff74": {
          "model_module": "@jupyter-widgets/controls",
          "model_name": "DescriptionStyleModel",
          "model_module_version": "1.5.0",
          "state": {
            "_model_module": "@jupyter-widgets/controls",
            "_model_module_version": "1.5.0",
            "_model_name": "DescriptionStyleModel",
            "_view_count": null,
            "_view_module": "@jupyter-widgets/base",
            "_view_module_version": "1.2.0",
            "_view_name": "StyleView",
            "description_width": ""
          }
        },
        "05f838427f2e49099102d9f8c9662b7f": {
          "model_module": "@jupyter-widgets/controls",
          "model_name": "HBoxModel",
          "model_module_version": "1.5.0",
          "state": {
            "_dom_classes": [],
            "_model_module": "@jupyter-widgets/controls",
            "_model_module_version": "1.5.0",
            "_model_name": "HBoxModel",
            "_view_count": null,
            "_view_module": "@jupyter-widgets/controls",
            "_view_module_version": "1.5.0",
            "_view_name": "HBoxView",
            "box_style": "",
            "children": [
              "IPY_MODEL_aa4e644b30bc4b61bfd80836e702e56e",
              "IPY_MODEL_60923709792b4bcbaa9def86a16d3ff2",
              "IPY_MODEL_67417a9a287e47adba5802745f37a9a2"
            ],
            "layout": "IPY_MODEL_2f4256667de54dda8fd57c985132a095"
          }
        },
        "aa4e644b30bc4b61bfd80836e702e56e": {
          "model_module": "@jupyter-widgets/controls",
          "model_name": "HTMLModel",
          "model_module_version": "1.5.0",
          "state": {
            "_dom_classes": [],
            "_model_module": "@jupyter-widgets/controls",
            "_model_module_version": "1.5.0",
            "_model_name": "HTMLModel",
            "_view_count": null,
            "_view_module": "@jupyter-widgets/controls",
            "_view_module_version": "1.5.0",
            "_view_name": "HTMLView",
            "description": "",
            "description_tooltip": null,
            "layout": "IPY_MODEL_467fa8d54eb64bda8d156e499e87e6c3",
            "placeholder": "​",
            "style": "IPY_MODEL_57370def901d4c8b9d1d7d1049b51cf7",
            "value": "config.json: 100%"
          }
        },
        "60923709792b4bcbaa9def86a16d3ff2": {
          "model_module": "@jupyter-widgets/controls",
          "model_name": "FloatProgressModel",
          "model_module_version": "1.5.0",
          "state": {
            "_dom_classes": [],
            "_model_module": "@jupyter-widgets/controls",
            "_model_module_version": "1.5.0",
            "_model_name": "FloatProgressModel",
            "_view_count": null,
            "_view_module": "@jupyter-widgets/controls",
            "_view_module_version": "1.5.0",
            "_view_name": "ProgressView",
            "bar_style": "success",
            "description": "",
            "description_tooltip": null,
            "layout": "IPY_MODEL_86eb80d0944e4091953abaac4242fa78",
            "max": 481,
            "min": 0,
            "orientation": "horizontal",
            "style": "IPY_MODEL_23ae62841cdc46e39c0443d72419f8fb",
            "value": 481
          }
        },
        "67417a9a287e47adba5802745f37a9a2": {
          "model_module": "@jupyter-widgets/controls",
          "model_name": "HTMLModel",
          "model_module_version": "1.5.0",
          "state": {
            "_dom_classes": [],
            "_model_module": "@jupyter-widgets/controls",
            "_model_module_version": "1.5.0",
            "_model_name": "HTMLModel",
            "_view_count": null,
            "_view_module": "@jupyter-widgets/controls",
            "_view_module_version": "1.5.0",
            "_view_name": "HTMLView",
            "description": "",
            "description_tooltip": null,
            "layout": "IPY_MODEL_aed9c0d109c44ed6b186f8a6876b0665",
            "placeholder": "​",
            "style": "IPY_MODEL_89dd6d6393d5491eafd4a19f58c6d224",
            "value": " 481/481 [00:00&lt;00:00, 19.6kB/s]"
          }
        },
        "2f4256667de54dda8fd57c985132a095": {
          "model_module": "@jupyter-widgets/base",
          "model_name": "LayoutModel",
          "model_module_version": "1.2.0",
          "state": {
            "_model_module": "@jupyter-widgets/base",
            "_model_module_version": "1.2.0",
            "_model_name": "LayoutModel",
            "_view_count": null,
            "_view_module": "@jupyter-widgets/base",
            "_view_module_version": "1.2.0",
            "_view_name": "LayoutView",
            "align_content": null,
            "align_items": null,
            "align_self": null,
            "border": null,
            "bottom": null,
            "display": null,
            "flex": null,
            "flex_flow": null,
            "grid_area": null,
            "grid_auto_columns": null,
            "grid_auto_flow": null,
            "grid_auto_rows": null,
            "grid_column": null,
            "grid_gap": null,
            "grid_row": null,
            "grid_template_areas": null,
            "grid_template_columns": null,
            "grid_template_rows": null,
            "height": null,
            "justify_content": null,
            "justify_items": null,
            "left": null,
            "margin": null,
            "max_height": null,
            "max_width": null,
            "min_height": null,
            "min_width": null,
            "object_fit": null,
            "object_position": null,
            "order": null,
            "overflow": null,
            "overflow_x": null,
            "overflow_y": null,
            "padding": null,
            "right": null,
            "top": null,
            "visibility": null,
            "width": null
          }
        },
        "467fa8d54eb64bda8d156e499e87e6c3": {
          "model_module": "@jupyter-widgets/base",
          "model_name": "LayoutModel",
          "model_module_version": "1.2.0",
          "state": {
            "_model_module": "@jupyter-widgets/base",
            "_model_module_version": "1.2.0",
            "_model_name": "LayoutModel",
            "_view_count": null,
            "_view_module": "@jupyter-widgets/base",
            "_view_module_version": "1.2.0",
            "_view_name": "LayoutView",
            "align_content": null,
            "align_items": null,
            "align_self": null,
            "border": null,
            "bottom": null,
            "display": null,
            "flex": null,
            "flex_flow": null,
            "grid_area": null,
            "grid_auto_columns": null,
            "grid_auto_flow": null,
            "grid_auto_rows": null,
            "grid_column": null,
            "grid_gap": null,
            "grid_row": null,
            "grid_template_areas": null,
            "grid_template_columns": null,
            "grid_template_rows": null,
            "height": null,
            "justify_content": null,
            "justify_items": null,
            "left": null,
            "margin": null,
            "max_height": null,
            "max_width": null,
            "min_height": null,
            "min_width": null,
            "object_fit": null,
            "object_position": null,
            "order": null,
            "overflow": null,
            "overflow_x": null,
            "overflow_y": null,
            "padding": null,
            "right": null,
            "top": null,
            "visibility": null,
            "width": null
          }
        },
        "57370def901d4c8b9d1d7d1049b51cf7": {
          "model_module": "@jupyter-widgets/controls",
          "model_name": "DescriptionStyleModel",
          "model_module_version": "1.5.0",
          "state": {
            "_model_module": "@jupyter-widgets/controls",
            "_model_module_version": "1.5.0",
            "_model_name": "DescriptionStyleModel",
            "_view_count": null,
            "_view_module": "@jupyter-widgets/base",
            "_view_module_version": "1.2.0",
            "_view_name": "StyleView",
            "description_width": ""
          }
        },
        "86eb80d0944e4091953abaac4242fa78": {
          "model_module": "@jupyter-widgets/base",
          "model_name": "LayoutModel",
          "model_module_version": "1.2.0",
          "state": {
            "_model_module": "@jupyter-widgets/base",
            "_model_module_version": "1.2.0",
            "_model_name": "LayoutModel",
            "_view_count": null,
            "_view_module": "@jupyter-widgets/base",
            "_view_module_version": "1.2.0",
            "_view_name": "LayoutView",
            "align_content": null,
            "align_items": null,
            "align_self": null,
            "border": null,
            "bottom": null,
            "display": null,
            "flex": null,
            "flex_flow": null,
            "grid_area": null,
            "grid_auto_columns": null,
            "grid_auto_flow": null,
            "grid_auto_rows": null,
            "grid_column": null,
            "grid_gap": null,
            "grid_row": null,
            "grid_template_areas": null,
            "grid_template_columns": null,
            "grid_template_rows": null,
            "height": null,
            "justify_content": null,
            "justify_items": null,
            "left": null,
            "margin": null,
            "max_height": null,
            "max_width": null,
            "min_height": null,
            "min_width": null,
            "object_fit": null,
            "object_position": null,
            "order": null,
            "overflow": null,
            "overflow_x": null,
            "overflow_y": null,
            "padding": null,
            "right": null,
            "top": null,
            "visibility": null,
            "width": null
          }
        },
        "23ae62841cdc46e39c0443d72419f8fb": {
          "model_module": "@jupyter-widgets/controls",
          "model_name": "ProgressStyleModel",
          "model_module_version": "1.5.0",
          "state": {
            "_model_module": "@jupyter-widgets/controls",
            "_model_module_version": "1.5.0",
            "_model_name": "ProgressStyleModel",
            "_view_count": null,
            "_view_module": "@jupyter-widgets/base",
            "_view_module_version": "1.2.0",
            "_view_name": "StyleView",
            "bar_color": null,
            "description_width": ""
          }
        },
        "aed9c0d109c44ed6b186f8a6876b0665": {
          "model_module": "@jupyter-widgets/base",
          "model_name": "LayoutModel",
          "model_module_version": "1.2.0",
          "state": {
            "_model_module": "@jupyter-widgets/base",
            "_model_module_version": "1.2.0",
            "_model_name": "LayoutModel",
            "_view_count": null,
            "_view_module": "@jupyter-widgets/base",
            "_view_module_version": "1.2.0",
            "_view_name": "LayoutView",
            "align_content": null,
            "align_items": null,
            "align_self": null,
            "border": null,
            "bottom": null,
            "display": null,
            "flex": null,
            "flex_flow": null,
            "grid_area": null,
            "grid_auto_columns": null,
            "grid_auto_flow": null,
            "grid_auto_rows": null,
            "grid_column": null,
            "grid_gap": null,
            "grid_row": null,
            "grid_template_areas": null,
            "grid_template_columns": null,
            "grid_template_rows": null,
            "height": null,
            "justify_content": null,
            "justify_items": null,
            "left": null,
            "margin": null,
            "max_height": null,
            "max_width": null,
            "min_height": null,
            "min_width": null,
            "object_fit": null,
            "object_position": null,
            "order": null,
            "overflow": null,
            "overflow_x": null,
            "overflow_y": null,
            "padding": null,
            "right": null,
            "top": null,
            "visibility": null,
            "width": null
          }
        },
        "89dd6d6393d5491eafd4a19f58c6d224": {
          "model_module": "@jupyter-widgets/controls",
          "model_name": "DescriptionStyleModel",
          "model_module_version": "1.5.0",
          "state": {
            "_model_module": "@jupyter-widgets/controls",
            "_model_module_version": "1.5.0",
            "_model_name": "DescriptionStyleModel",
            "_view_count": null,
            "_view_module": "@jupyter-widgets/base",
            "_view_module_version": "1.2.0",
            "_view_name": "StyleView",
            "description_width": ""
          }
        },
        "4d61b7fa41cb48049b3be58bc20f78bc": {
          "model_module": "@jupyter-widgets/controls",
          "model_name": "HBoxModel",
          "model_module_version": "1.5.0",
          "state": {
            "_dom_classes": [],
            "_model_module": "@jupyter-widgets/controls",
            "_model_module_version": "1.5.0",
            "_model_name": "HBoxModel",
            "_view_count": null,
            "_view_module": "@jupyter-widgets/controls",
            "_view_module_version": "1.5.0",
            "_view_name": "HBoxView",
            "box_style": "",
            "children": [
              "IPY_MODEL_880a8f6ac0b8497e97713daf90081778",
              "IPY_MODEL_356775665e7c4eefbfb33d4dfc642ad0",
              "IPY_MODEL_b4996695f5ba4c9b890c0d5db5831851"
            ],
            "layout": "IPY_MODEL_444e9fb14b534c2ba4f2f5e83d734088"
          }
        },
        "880a8f6ac0b8497e97713daf90081778": {
          "model_module": "@jupyter-widgets/controls",
          "model_name": "HTMLModel",
          "model_module_version": "1.5.0",
          "state": {
            "_dom_classes": [],
            "_model_module": "@jupyter-widgets/controls",
            "_model_module_version": "1.5.0",
            "_model_name": "HTMLModel",
            "_view_count": null,
            "_view_module": "@jupyter-widgets/controls",
            "_view_module_version": "1.5.0",
            "_view_name": "HTMLView",
            "description": "",
            "description_tooltip": null,
            "layout": "IPY_MODEL_165b2001084d450db373fbebc0baa2a0",
            "placeholder": "​",
            "style": "IPY_MODEL_66fe2eac0e874f2e9cf054680479a1c9",
            "value": "(…)eb5afc8b2b397fe5e04beabb9b1ef355255ade81: 100%"
          }
        },
        "356775665e7c4eefbfb33d4dfc642ad0": {
          "model_module": "@jupyter-widgets/controls",
          "model_name": "FloatProgressModel",
          "model_module_version": "1.5.0",
          "state": {
            "_dom_classes": [],
            "_model_module": "@jupyter-widgets/controls",
            "_model_module_version": "1.5.0",
            "_model_name": "FloatProgressModel",
            "_view_count": null,
            "_view_module": "@jupyter-widgets/controls",
            "_view_module_version": "1.5.0",
            "_view_name": "ProgressView",
            "bar_style": "success",
            "description": "",
            "description_tooltip": null,
            "layout": "IPY_MODEL_a54a9d9c5b1a4ed69e437a8a989a9452",
            "max": 498818054,
            "min": 0,
            "orientation": "horizontal",
            "style": "IPY_MODEL_48b6e79b16db42f0947a851520d5da70",
            "value": 498818054
          }
        },
        "b4996695f5ba4c9b890c0d5db5831851": {
          "model_module": "@jupyter-widgets/controls",
          "model_name": "HTMLModel",
          "model_module_version": "1.5.0",
          "state": {
            "_dom_classes": [],
            "_model_module": "@jupyter-widgets/controls",
            "_model_module_version": "1.5.0",
            "_model_name": "HTMLModel",
            "_view_count": null,
            "_view_module": "@jupyter-widgets/controls",
            "_view_module_version": "1.5.0",
            "_view_name": "HTMLView",
            "description": "",
            "description_tooltip": null,
            "layout": "IPY_MODEL_b70f7bfa7bc841d09f4c86460efe031a",
            "placeholder": "​",
            "style": "IPY_MODEL_fa6a99a07f6846c2800dd5bb41707bc5",
            "value": " 499M/499M [00:02&lt;00:00, 243MB/s]"
          }
        },
        "444e9fb14b534c2ba4f2f5e83d734088": {
          "model_module": "@jupyter-widgets/base",
          "model_name": "LayoutModel",
          "model_module_version": "1.2.0",
          "state": {
            "_model_module": "@jupyter-widgets/base",
            "_model_module_version": "1.2.0",
            "_model_name": "LayoutModel",
            "_view_count": null,
            "_view_module": "@jupyter-widgets/base",
            "_view_module_version": "1.2.0",
            "_view_name": "LayoutView",
            "align_content": null,
            "align_items": null,
            "align_self": null,
            "border": null,
            "bottom": null,
            "display": null,
            "flex": null,
            "flex_flow": null,
            "grid_area": null,
            "grid_auto_columns": null,
            "grid_auto_flow": null,
            "grid_auto_rows": null,
            "grid_column": null,
            "grid_gap": null,
            "grid_row": null,
            "grid_template_areas": null,
            "grid_template_columns": null,
            "grid_template_rows": null,
            "height": null,
            "justify_content": null,
            "justify_items": null,
            "left": null,
            "margin": null,
            "max_height": null,
            "max_width": null,
            "min_height": null,
            "min_width": null,
            "object_fit": null,
            "object_position": null,
            "order": null,
            "overflow": null,
            "overflow_x": null,
            "overflow_y": null,
            "padding": null,
            "right": null,
            "top": null,
            "visibility": null,
            "width": null
          }
        },
        "165b2001084d450db373fbebc0baa2a0": {
          "model_module": "@jupyter-widgets/base",
          "model_name": "LayoutModel",
          "model_module_version": "1.2.0",
          "state": {
            "_model_module": "@jupyter-widgets/base",
            "_model_module_version": "1.2.0",
            "_model_name": "LayoutModel",
            "_view_count": null,
            "_view_module": "@jupyter-widgets/base",
            "_view_module_version": "1.2.0",
            "_view_name": "LayoutView",
            "align_content": null,
            "align_items": null,
            "align_self": null,
            "border": null,
            "bottom": null,
            "display": null,
            "flex": null,
            "flex_flow": null,
            "grid_area": null,
            "grid_auto_columns": null,
            "grid_auto_flow": null,
            "grid_auto_rows": null,
            "grid_column": null,
            "grid_gap": null,
            "grid_row": null,
            "grid_template_areas": null,
            "grid_template_columns": null,
            "grid_template_rows": null,
            "height": null,
            "justify_content": null,
            "justify_items": null,
            "left": null,
            "margin": null,
            "max_height": null,
            "max_width": null,
            "min_height": null,
            "min_width": null,
            "object_fit": null,
            "object_position": null,
            "order": null,
            "overflow": null,
            "overflow_x": null,
            "overflow_y": null,
            "padding": null,
            "right": null,
            "top": null,
            "visibility": null,
            "width": null
          }
        },
        "66fe2eac0e874f2e9cf054680479a1c9": {
          "model_module": "@jupyter-widgets/controls",
          "model_name": "DescriptionStyleModel",
          "model_module_version": "1.5.0",
          "state": {
            "_model_module": "@jupyter-widgets/controls",
            "_model_module_version": "1.5.0",
            "_model_name": "DescriptionStyleModel",
            "_view_count": null,
            "_view_module": "@jupyter-widgets/base",
            "_view_module_version": "1.2.0",
            "_view_name": "StyleView",
            "description_width": ""
          }
        },
        "a54a9d9c5b1a4ed69e437a8a989a9452": {
          "model_module": "@jupyter-widgets/base",
          "model_name": "LayoutModel",
          "model_module_version": "1.2.0",
          "state": {
            "_model_module": "@jupyter-widgets/base",
            "_model_module_version": "1.2.0",
            "_model_name": "LayoutModel",
            "_view_count": null,
            "_view_module": "@jupyter-widgets/base",
            "_view_module_version": "1.2.0",
            "_view_name": "LayoutView",
            "align_content": null,
            "align_items": null,
            "align_self": null,
            "border": null,
            "bottom": null,
            "display": null,
            "flex": null,
            "flex_flow": null,
            "grid_area": null,
            "grid_auto_columns": null,
            "grid_auto_flow": null,
            "grid_auto_rows": null,
            "grid_column": null,
            "grid_gap": null,
            "grid_row": null,
            "grid_template_areas": null,
            "grid_template_columns": null,
            "grid_template_rows": null,
            "height": null,
            "justify_content": null,
            "justify_items": null,
            "left": null,
            "margin": null,
            "max_height": null,
            "max_width": null,
            "min_height": null,
            "min_width": null,
            "object_fit": null,
            "object_position": null,
            "order": null,
            "overflow": null,
            "overflow_x": null,
            "overflow_y": null,
            "padding": null,
            "right": null,
            "top": null,
            "visibility": null,
            "width": null
          }
        },
        "48b6e79b16db42f0947a851520d5da70": {
          "model_module": "@jupyter-widgets/controls",
          "model_name": "ProgressStyleModel",
          "model_module_version": "1.5.0",
          "state": {
            "_model_module": "@jupyter-widgets/controls",
            "_model_module_version": "1.5.0",
            "_model_name": "ProgressStyleModel",
            "_view_count": null,
            "_view_module": "@jupyter-widgets/base",
            "_view_module_version": "1.2.0",
            "_view_name": "StyleView",
            "bar_color": null,
            "description_width": ""
          }
        },
        "b70f7bfa7bc841d09f4c86460efe031a": {
          "model_module": "@jupyter-widgets/base",
          "model_name": "LayoutModel",
          "model_module_version": "1.2.0",
          "state": {
            "_model_module": "@jupyter-widgets/base",
            "_model_module_version": "1.2.0",
            "_model_name": "LayoutModel",
            "_view_count": null,
            "_view_module": "@jupyter-widgets/base",
            "_view_module_version": "1.2.0",
            "_view_name": "LayoutView",
            "align_content": null,
            "align_items": null,
            "align_self": null,
            "border": null,
            "bottom": null,
            "display": null,
            "flex": null,
            "flex_flow": null,
            "grid_area": null,
            "grid_auto_columns": null,
            "grid_auto_flow": null,
            "grid_auto_rows": null,
            "grid_column": null,
            "grid_gap": null,
            "grid_row": null,
            "grid_template_areas": null,
            "grid_template_columns": null,
            "grid_template_rows": null,
            "height": null,
            "justify_content": null,
            "justify_items": null,
            "left": null,
            "margin": null,
            "max_height": null,
            "max_width": null,
            "min_height": null,
            "min_width": null,
            "object_fit": null,
            "object_position": null,
            "order": null,
            "overflow": null,
            "overflow_x": null,
            "overflow_y": null,
            "padding": null,
            "right": null,
            "top": null,
            "visibility": null,
            "width": null
          }
        },
        "fa6a99a07f6846c2800dd5bb41707bc5": {
          "model_module": "@jupyter-widgets/controls",
          "model_name": "DescriptionStyleModel",
          "model_module_version": "1.5.0",
          "state": {
            "_model_module": "@jupyter-widgets/controls",
            "_model_module_version": "1.5.0",
            "_model_name": "DescriptionStyleModel",
            "_view_count": null,
            "_view_module": "@jupyter-widgets/base",
            "_view_module_version": "1.2.0",
            "_view_name": "StyleView",
            "description_width": ""
          }
        }
      }
    }
  },
  "cells": [
    {
      "cell_type": "markdown",
      "source": [
        "# AI-generated fake reviews detector\n",
        "\n",
        "Online  reviews  on  digital  platforms  are  known  to  signif-icantly  influence  consumer  decisions  and  trust  in  prod-ucts  and  services. While  online  reviews  are  vital  for  consumer  decision-making, the credibility of UGC is increasingly compromised by the prevalence of fake reviews. These deceptive reviews, whether overly positive or negative, are intended to manipu-late consumer perceptions and distort the online marketplace.  Large Language Models (LLMs) are becoming indistinguishable at producing content with high accessibility and lowcost, pose a newchallenge in the proliferation of machine-generated fake reviews.\n",
        "\n",
        "In this project, I build a fake review detector to identify AI-generated fake reviews. The details of generated dataset can be found at [Gambetti and Han (2024)](https://ojs.aaai.org/index.php/ICWSM/article/view/31437) and the link of the data is available at [here](https://zenodo.org/records/10511456)\n",
        "\n",
        "The variables are as follows:\n",
        "\n",
        "Variables description:\n",
        "\n",
        "- ID: Unique identifier. It maps to each review, either generated or authentic, and to each image.\n",
        "text: Review text.\n",
        "- label: Binary label indicating the class (0=authentic, 1=machine-generated).\n",
        "- automated_readability_index: Approximate US grade level needed to comprehend the text.\n",
        "- difficult_words: Number of difficult words from Dale-Chall world list.\n",
        "- flesch_reading_ease: Score on a scale from 0 to 100, with higher scores indicating easier readability.\n",
        "gunning_fog: Years of formal education a person needs to understand a text easily.\n",
        "- words_per_sentence: Average number of words per sentence.\n",
        "- reading_time: Reading time.\n",
        "- ppl: Perplexity score from zero-shot GPTNeo 125M.\n",
        "- bright: Brightness. Average of V of the HSV image representation.\n",
        "- sat: Saturation. Color intensity and purity of an image. Average of S of the HSV image representation.\n",
        "- clar: Clarity. Well-defined objects in space. % of normalized V pixels that exceed 0.7 of HSV.\n",
        "- cont: Contrast. Spread of illumination. Standard deviation of V of the HSV image representation.\n",
        "- warm: Warmth. Warm colors: from red to yellow. % of H<60 or\n",
        " than 220 of HSV.\n",
        "- colorf: Colorfulness. Departure from a grey-scale image.\n",
        "- sd: Size difference. Difference in the number of pixels between the figure and the ground\n",
        "- cd: Color difference. Difference of Euclidian distance between the figure and ground (RGB vectors).\n",
        "- td: Texture difference. Absolute difference between the foreground and background edge density.\n",
        "- diag_dom: Diagonal dominance. Manhattan distance between salient region and each diagonal.\n",
        "- rot: Rule of thirds. Minimum distance between center of salient region and each of the four intersection points.\n",
        "- hpvb: Horizontal physical visual balance. Split image horizontally. Horizontal physical symmetry (mirroring).\n",
        "- vpvb: Vertical physical visual balance. Split image vertically. Vertical physical symmetry (mirroring)\n",
        "- hcvb: Horizontal color visual balance. Split image horizontally. Horizontal mirrored Euclidean cross-pixels distance.\n",
        "- vcvb: Vertical color visual balance. Split image vertically. Vertical mirrored Euclidean cross-pixels distance.\n",
        "\n",
        "For simplicity, we will use the validation set for training and test set for testing.\n"
      ],
      "metadata": {
        "id": "_fnWu4MhWHvs"
      }
    },
    {
      "cell_type": "code",
      "source": [
        "from google.colab import drive\n",
        "drive.mount('/content/drive')"
      ],
      "metadata": {
        "colab": {
          "base_uri": "https://localhost:8080/"
        },
        "id": "HVpUYlepz2Wf",
        "outputId": "d1f9a743-f276-40dd-c107-0639a5f62b58"
      },
      "execution_count": null,
      "outputs": [
        {
          "output_type": "stream",
          "name": "stdout",
          "text": [
            "Drive already mounted at /content/drive; to attempt to forcibly remount, call drive.mount(\"/content/drive\", force_remount=True).\n"
          ]
        }
      ]
    },
    {
      "cell_type": "code",
      "source": [
        "import pandas as pd\n",
        "import os\n",
        "import numpy as np\n",
        "from tqdm import tqdm\n",
        "from PIL import Image\n",
        "from collections import Counter\n",
        "import re\n",
        "import requests, zipfile, io\n",
        "import time\n",
        "\n",
        "import torch\n",
        "from torch.utils.data import Dataset, DataLoader\n",
        "from torchvision import transforms\n",
        "import torch.nn as nn\n",
        "import torch.optim as optim\n",
        "from torchvision import models\n",
        "\n",
        "from sklearn.metrics import accuracy_score\n",
        "from sklearn.model_selection import train_test_split\n",
        "\n",
        "from transformers import RobertaTokenizer, RobertaForSequenceClassification, Trainer, TrainingArguments\n",
        "from transformers import ViTFeatureExtractor, ViTForImageClassification, TrainingArguments, Trainer\n"
      ],
      "metadata": {
        "id": "-t9KmnQy1D87"
      },
      "execution_count": null,
      "outputs": []
    },
    {
      "source": [
        "val_df = pd.read_csv('/content/drive/My Drive/foodreviews_val.csv')\n",
        "test_df = pd.read_csv('/content/drive/My Drive/foodreviews_test.csv')\n",
        "\n",
        "zip_file_path = '/content/drive/My Drive/images.zip'\n",
        "extract_dir = '/content/drive/My Drive/'\n",
        "img_dir = os.path.join(extract_dir, 'images')\n"
      ],
      "cell_type": "code",
      "metadata": {
        "id": "65vd5ForSi05"
      },
      "execution_count": null,
      "outputs": []
    },
    {
      "cell_type": "code",
      "metadata": {
        "colab": {
          "base_uri": "https://localhost:8080/"
        },
        "id": "d195e5fe",
        "outputId": "443c2a49-9d6e-44d2-abec-28e134f75d8f"
      },
      "source": [
        "# Extract the zip file\n",
        "with zipfile.ZipFile(zip_file_path, 'r') as zip_ref:\n",
        "    zip_ref.extractall(extract_dir)\n",
        "print(f\"Extracted images to {img_dir}\")"
      ],
      "execution_count": null,
      "outputs": [
        {
          "output_type": "stream",
          "name": "stdout",
          "text": [
            "Extracted images to /content/drive/My Drive/images\n"
          ]
        }
      ]
    },
    {
      "cell_type": "markdown",
      "source": [
        "## 1. Detecting AI-generated fake reviews using images only\n",
        "\n",
        "Convolutional neural network (CNN) model with the same model architecture as LeNet-5 from scratch to detecting AI-generated fake reviews from images.\n"
      ],
      "metadata": {
        "id": "BvK37P0-YAIt"
      }
    },
    {
      "cell_type": "code",
      "source": [
        "print(\"Loading images and defining model...\")\n",
        "\n",
        "# --- 1. Dataset class for loading images ---\n",
        "class ReviewImageDataset(Dataset):\n",
        "    def __init__(self, df, img_dir, transform=None):\n",
        "        self.df = df\n",
        "        self.img_dir = img_dir\n",
        "        self.transform = transform\n",
        "\n",
        "    def __len__(self):\n",
        "        return len(self.df)\n",
        "\n",
        "    def __getitem__(self, idx):\n",
        "        img_id = self.df.iloc[idx]['ID']\n",
        "        label = self.df.iloc[idx]['label']\n",
        "        # Construct the image path by joining the base image directory and the image filename\n",
        "        img_path = os.path.join(self.img_dir, f\"{img_id}.jpg\")\n",
        "        try:\n",
        "            image = Image.open(img_path).convert('L')  # LeNet-5 uses grayscale\n",
        "            if self.transform:\n",
        "                image = self.transform(image)\n",
        "            return image, label\n",
        "        except FileNotFoundError:\n",
        "            print(f\"Image file not found: {img_path}\")\n",
        "            # Handle missing images if necessary, for now, raising the error to stop\n",
        "            raise\n",
        "\n",
        "# --- 2. LeNet-5 Model ---\n",
        "class LeNet5(nn.Module):\n",
        "    def __init__(self):\n",
        "        super(LeNet5, self).__init__()\n",
        "        self.conv1 = nn.Conv2d(1, 6, 5)      # (N,1,32,32) -> (N,6,28,28)\n",
        "        self.pool1 = nn.AvgPool2d(2, 2)      # (N,6,28,28) -> (N,6,14,14)\n",
        "        self.conv2 = nn.Conv2d(6, 16, 5)     # (N,6,14,14) -> (N,16,10,10)\n",
        "        self.pool2 = nn.AvgPool2d(2, 2)      # (N,16,10,10) -> (N,16,5,5)\n",
        "        self.fc1 = nn.Linear(16*5*5, 120)\n",
        "        self.fc2 = nn.Linear(120, 84)\n",
        "        self.fc3 = nn.Linear(84, 2)          # 2 classes: authentic/fake\n",
        "\n",
        "    def forward(self, x):\n",
        "        x = torch.relu(self.conv1(x))\n",
        "        x = self.pool1(x)\n",
        "        x = torch.relu(self.conv2(x))\n",
        "        x = self.pool2(x)\n",
        "        x = x.view(-1, 16*5*5)\n",
        "        x = torch.relu(self.fc1(x))\n",
        "        x = torch.relu(self.fc2(x))\n",
        "        x = torch.relu(self.fc3(x))\n",
        "        return x\n",
        "\n",
        "# --- 3. Data transforms and loaders ---\n",
        "transform = transforms.Compose([\n",
        "    transforms.Resize((32, 32)),\n",
        "    transforms.ToTensor(),\n",
        "])\n",
        "\n",
        "val_dataset = ReviewImageDataset(val_df, img_dir, transform)\n",
        "test_dataset = ReviewImageDataset(test_df, img_dir, transform)\n",
        "\n",
        "val_loader = DataLoader(val_dataset, batch_size=64, shuffle=True, num_workers=2)\n",
        "test_loader = DataLoader(test_dataset, batch_size=64, shuffle=False, num_workers=2)\n",
        "print(\"Loading complete!\")"
      ],
      "metadata": {
        "colab": {
          "base_uri": "https://localhost:8080/"
        },
        "id": "x9t4cwnKS565",
        "outputId": "ddd83224-56d4-47a5-c334-a780f83bb0a0"
      },
      "execution_count": null,
      "outputs": [
        {
          "output_type": "stream",
          "name": "stdout",
          "text": [
            "Loading images and defining model...\n",
            "Loading complete!\n"
          ]
        }
      ]
    },
    {
      "cell_type": "code",
      "source": [
        "print(\"Training set up...\")\n",
        "# --- Training setup ---\n",
        "device = torch.device('cuda' if torch.cuda.is_available() else 'cpu')\n",
        "model = LeNet5().to(device)\n",
        "criterion = nn.CrossEntropyLoss()\n",
        "optimizer = optim.Adam(model.parameters(), lr=0.001)\n",
        "\n",
        "print(\"Training model...\")\n",
        "# --- Training loop ---\n",
        "for epoch in range(10):  # 10 epochs for demonstration\n",
        "    model.train()\n",
        "    running_loss = 0.0\n",
        "    progress_bar = tqdm(val_loader, desc=f\"Epoch {epoch+1}/10\", leave=False)\n",
        "    for images, labels in progress_bar:\n",
        "        images, labels = images.to(device), labels.to(device)\n",
        "        optimizer.zero_grad()\n",
        "        outputs = model(images)\n",
        "        loss = criterion(outputs, labels)\n",
        "        loss.backward()\n",
        "        optimizer.step()\n",
        "        running_loss += loss.item()\n",
        "        progress_bar.set_postfix(loss=running_loss / (progress_bar.n + 1))\n",
        "    print(f\"Epoch {epoch+1} finished. Loss: {running_loss / len(val_loader):.4f}\")\n"
      ],
      "metadata": {
        "id": "674jgZuVcVR2",
        "colab": {
          "base_uri": "https://localhost:8080/"
        },
        "outputId": "0ecbf735-fefa-44b1-f015-513a7bedd5aa"
      },
      "execution_count": null,
      "outputs": [
        {
          "metadata": {
            "tags": null
          },
          "name": "stdout",
          "output_type": "stream",
          "text": [
            "Training set up...\n",
            "Training model...\n"
          ]
        },
        {
          "metadata": {
            "tags": null
          },
          "name": "stderr",
          "output_type": "stream",
          "text": [
            ""
          ]
        },
        {
          "metadata": {
            "tags": null
          },
          "name": "stdout",
          "output_type": "stream",
          "text": [
            "Epoch 1 finished. Loss: 0.6858\n"
          ]
        },
        {
          "metadata": {
            "tags": null
          },
          "name": "stderr",
          "output_type": "stream",
          "text": [
            ""
          ]
        },
        {
          "metadata": {
            "tags": null
          },
          "name": "stdout",
          "output_type": "stream",
          "text": [
            "Epoch 2 finished. Loss: 0.6093\n"
          ]
        },
        {
          "metadata": {
            "tags": null
          },
          "name": "stderr",
          "output_type": "stream",
          "text": [
            ""
          ]
        },
        {
          "metadata": {
            "tags": null
          },
          "name": "stdout",
          "output_type": "stream",
          "text": [
            "Epoch 3 finished. Loss: 0.5670\n"
          ]
        },
        {
          "metadata": {
            "tags": null
          },
          "name": "stderr",
          "output_type": "stream",
          "text": [
            ""
          ]
        },
        {
          "metadata": {
            "tags": null
          },
          "name": "stdout",
          "output_type": "stream",
          "text": [
            "Epoch 4 finished. Loss: 0.5642\n"
          ]
        },
        {
          "metadata": {
            "tags": null
          },
          "name": "stderr",
          "output_type": "stream",
          "text": [
            ""
          ]
        },
        {
          "metadata": {
            "tags": null
          },
          "name": "stdout",
          "output_type": "stream",
          "text": [
            "Epoch 5 finished. Loss: 0.5606\n"
          ]
        },
        {
          "metadata": {
            "tags": null
          },
          "name": "stderr",
          "output_type": "stream",
          "text": [
            ""
          ]
        },
        {
          "metadata": {
            "tags": null
          },
          "name": "stdout",
          "output_type": "stream",
          "text": [
            "Epoch 6 finished. Loss: 0.5383\n"
          ]
        },
        {
          "output_type": "stream",
          "name": "stderr",
          "text": []
        },
        {
          "output_type": "stream",
          "name": "stdout",
          "text": [
            "Epoch 7 finished. Loss: 0.5322\n"
          ]
        },
        {
          "output_type": "stream",
          "name": "stderr",
          "text": []
        },
        {
          "output_type": "stream",
          "name": "stdout",
          "text": [
            "Epoch 8 finished. Loss: 0.5278\n"
          ]
        },
        {
          "output_type": "stream",
          "name": "stderr",
          "text": []
        },
        {
          "output_type": "stream",
          "name": "stdout",
          "text": [
            "Epoch 9 finished. Loss: 0.5257\n"
          ]
        },
        {
          "output_type": "stream",
          "name": "stderr",
          "text": [
            "                                                                        "
          ]
        },
        {
          "output_type": "stream",
          "name": "stdout",
          "text": [
            "Epoch 10 finished. Loss: 0.5295\n"
          ]
        },
        {
          "output_type": "stream",
          "name": "stderr",
          "text": [
            "\r"
          ]
        }
      ]
    },
    {
      "cell_type": "code",
      "source": [
        "print(\"Evaluating model...\")\n",
        "# --- Evaluation function ---\n",
        "def evaluate(model, loader):\n",
        "    model.eval()\n",
        "    correct, total = 0, 0\n",
        "    for images, labels in tqdm(loader, desc=\"Evaluating\", leave=False):\n",
        "        images = images.to(device, non_blocking=True)\n",
        "        labels = labels.to(device, non_blocking=True)\n",
        "        outputs = model(images)\n",
        "        _, preds = torch.max(outputs, 1)\n",
        "        correct += (preds == labels).sum().item()\n",
        "        total += labels.size(0)\n",
        "    return correct / total\n",
        "\n",
        "val_acc = evaluate(model, val_loader)\n",
        "test_acc = evaluate(model, test_loader)\n",
        "\n",
        "# --- Model summary and results ---\n",
        "def count_parameters(model):\n",
        "    return sum(p.numel() for p in model.parameters() if p.requires_grad)\n",
        "\n",
        "print(model)\n",
        "print(f\"Number of trainable parameters: {count_parameters(model)}\")\n",
        "print(f\"Validation accuracy: {val_acc:.4f}\")\n",
        "print(f\"Test accuracy: {test_acc:.4f}\")"
      ],
      "metadata": {
        "colab": {
          "base_uri": "https://localhost:8080/"
        },
        "id": "uP4STQHNuYyC",
        "outputId": "d389a15f-d58c-46d4-fa46-c3f17b8025b8"
      },
      "execution_count": null,
      "outputs": [
        {
          "metadata": {
            "tags": null
          },
          "name": "stdout",
          "output_type": "stream",
          "text": [
            "Evaluating model...\n"
          ]
        },
        {
          "output_type": "stream",
          "name": "stderr",
          "text": [
            "                                                           "
          ]
        },
        {
          "output_type": "stream",
          "name": "stdout",
          "text": [
            "LeNet5(\n",
            "  (conv1): Conv2d(1, 6, kernel_size=(5, 5), stride=(1, 1))\n",
            "  (pool1): AvgPool2d(kernel_size=2, stride=2, padding=0)\n",
            "  (conv2): Conv2d(6, 16, kernel_size=(5, 5), stride=(1, 1))\n",
            "  (pool2): AvgPool2d(kernel_size=2, stride=2, padding=0)\n",
            "  (fc1): Linear(in_features=400, out_features=120, bias=True)\n",
            "  (fc2): Linear(in_features=120, out_features=84, bias=True)\n",
            "  (fc3): Linear(in_features=84, out_features=2, bias=True)\n",
            ")\n",
            "Number of trainable parameters: 61026\n",
            "Validation accuracy: 0.7520\n",
            "Test accuracy: 0.7424\n"
          ]
        },
        {
          "output_type": "stream",
          "name": "stderr",
          "text": [
            "\r"
          ]
        }
      ]
    },
    {
      "cell_type": "markdown",
      "source": [
        "## 2. Transfer Learning for AI-generated fake review detection\n",
        "\n",
        "Used the pretrained [VGG-16](https://pytorch.org/vision/main/models/generated/torchvision.models.vgg16.html) on ImageNet to perform transfer learning in two steps: 1)zero-shot classification; 2)supervised fine-tune (SFT) with the validation set."
      ],
      "metadata": {
        "id": "XZ0t31dziHkg"
      }
    },
    {
      "cell_type": "code",
      "source": [
        "# Load pretrained VGG-16 and modify classifier for 2 classes\n",
        "vgg16 = models.vgg16(pretrained=True)\n",
        "for param in vgg16.parameters():\n",
        "    param.requires_grad = False  # Freeze all layers\n",
        "\n",
        "# Replace classifier for binary classification\n",
        "vgg16.classifier[6] = nn.Linear(4096, 2)\n",
        "\n",
        "device = torch.device('cuda' if torch.cuda.is_available() else 'cpu')\n",
        "vgg16 = vgg16.to(device)\n",
        "\n",
        "# Data transforms (VGG expects 224x224 RGB)\n",
        "vgg_transform = transforms.Compose([\n",
        "    transforms.Resize((224, 224)),\n",
        "    transforms.ToTensor(),\n",
        "    transforms.Lambda(lambda x: x.repeat(3, 1, 1) if x.shape[0] == 1 else x),  # convert grayscale to RGB\n",
        "    transforms.Normalize([0.485, 0.456, 0.406], [0.229, 0.224, 0.225])\n",
        "])\n",
        "\n",
        "val_dataset_vgg = ReviewImageDataset(val_df, img_dir, vgg_transform)\n",
        "test_dataset_vgg = ReviewImageDataset(test_df, img_dir, vgg_transform)\n",
        "val_loader_vgg = DataLoader(val_dataset_vgg, batch_size=64, shuffle=True, num_workers=2)\n",
        "test_loader_vgg = DataLoader(test_dataset_vgg, batch_size=64, shuffle=False, num_workers=2)"
      ],
      "metadata": {
        "id": "6LWzkjfGnDQs",
        "colab": {
          "base_uri": "https://localhost:8080/"
        },
        "outputId": "aee60ff4-8e2c-4bf2-cb33-c5640625d419"
      },
      "execution_count": null,
      "outputs": [
        {
          "output_type": "stream",
          "name": "stderr",
          "text": [
            "/usr/local/lib/python3.11/dist-packages/torchvision/models/_utils.py:208: UserWarning: The parameter 'pretrained' is deprecated since 0.13 and may be removed in the future, please use 'weights' instead.\n",
            "  warnings.warn(\n",
            "/usr/local/lib/python3.11/dist-packages/torchvision/models/_utils.py:223: UserWarning: Arguments other than a weight enum or `None` for 'weights' are deprecated since 0.13 and may be removed in the future. The current behavior is equivalent to passing `weights=VGG16_Weights.IMAGENET1K_V1`. You can also use `weights=VGG16_Weights.DEFAULT` to get the most up-to-date weights.\n",
            "  warnings.warn(msg)\n",
            "Downloading: \"https://download.pytorch.org/models/vgg16-397923af.pth\" to /root/.cache/torch/hub/checkpoints/vgg16-397923af.pth\n",
            "100%|██████████| 528M/528M [00:30<00:00, 18.2MB/s]\n"
          ]
        }
      ]
    },
    {
      "cell_type": "markdown",
      "source": [
        "#### Zero-shot classification (no fine-tuning)"
      ],
      "metadata": {
        "id": "9tM9XCV5w4GX"
      }
    },
    {
      "cell_type": "code",
      "source": [
        "def evaluate(model, loader):\n",
        "    model.eval()\n",
        "    correct, total = 0, 0\n",
        "    with torch.no_grad():\n",
        "        for images, labels in tqdm(loader, desc=\"Evaluating\", leave=False):\n",
        "            images, labels = images.to(device), labels.to(device)\n",
        "            outputs = model(images)\n",
        "            _, preds = torch.max(outputs, 1)\n",
        "            correct += (preds == labels).sum().item()\n",
        "            total += labels.size(0)\n",
        "    return correct / total\n",
        "\n",
        "zero_shot_val_acc = evaluate(vgg16, val_loader_vgg)\n",
        "zero_shot_test_acc = evaluate(vgg16, test_loader_vgg)"
      ],
      "metadata": {
        "id": "-PV2YJZWXG7f",
        "colab": {
          "base_uri": "https://localhost:8080/"
        },
        "outputId": "4a98b9a9-d1d8-43fa-c852-f93470182e8c"
      },
      "execution_count": null,
      "outputs": [
        {
          "output_type": "stream",
          "name": "stderr",
          "text": []
        }
      ]
    },
    {
      "cell_type": "markdown",
      "source": [
        "#### Supervised Fine-Tuning (STF) on validation set"
      ],
      "metadata": {
        "id": "wvWBNmWsxEiS"
      }
    },
    {
      "cell_type": "code",
      "source": [
        "for param in vgg16.classifier[6].parameters():\n",
        "    param.requires_grad = True  # Only train the last layer\n",
        "\n",
        "criterion = nn.CrossEntropyLoss()\n",
        "optimizer = optim.Adam(vgg16.classifier[6].parameters(), lr=0.001)\n",
        "\n",
        "for epoch in range(5):  # 5 epochs for demonstration\n",
        "    vgg16.train()\n",
        "    running_loss = 0.0\n",
        "    for images, labels in tqdm(val_loader_vgg, desc=f\"Epoch {epoch+1}/5\", leave=False):\n",
        "        images, labels = images.to(device), labels.to(device)\n",
        "        optimizer.zero_grad()\n",
        "        outputs = vgg16(images)\n",
        "        loss = criterion(outputs, labels)\n",
        "        loss.backward()\n",
        "        optimizer.step()\n",
        "        running_loss += loss.item()\n",
        "    avg_loss = running_loss / len(val_loader_vgg)\n",
        "    print(f\"Epoch {epoch+1} finished. Loss: {avg_loss:.4f}\")\n",
        "\n",
        "sft_val_acc = evaluate(vgg16, val_loader_vgg)\n",
        "sft_test_acc = evaluate(vgg16, test_loader_vgg)\n"
      ],
      "metadata": {
        "id": "lCjW1eiEXLKH",
        "colab": {
          "base_uri": "https://localhost:8080/"
        },
        "outputId": "ce772d34-95c3-4e7c-f29b-a1d102e6f0fc"
      },
      "execution_count": null,
      "outputs": [
        {
          "output_type": "stream",
          "name": "stderr",
          "text": []
        },
        {
          "output_type": "stream",
          "name": "stdout",
          "text": [
            "Epoch 1 finished. Loss: 0.5441\n"
          ]
        },
        {
          "output_type": "stream",
          "name": "stderr",
          "text": []
        },
        {
          "output_type": "stream",
          "name": "stdout",
          "text": [
            "Epoch 2 finished. Loss: 0.4481\n"
          ]
        },
        {
          "output_type": "stream",
          "name": "stderr",
          "text": []
        },
        {
          "output_type": "stream",
          "name": "stdout",
          "text": [
            "Epoch 3 finished. Loss: 0.4296\n"
          ]
        },
        {
          "output_type": "stream",
          "name": "stderr",
          "text": []
        },
        {
          "output_type": "stream",
          "name": "stdout",
          "text": [
            "Epoch 4 finished. Loss: 0.4062\n"
          ]
        },
        {
          "output_type": "stream",
          "name": "stderr",
          "text": []
        },
        {
          "output_type": "stream",
          "name": "stdout",
          "text": [
            "Epoch 5 finished. Loss: 0.4106\n"
          ]
        },
        {
          "output_type": "stream",
          "name": "stderr",
          "text": []
        }
      ]
    },
    {
      "cell_type": "markdown",
      "source": [
        "#### Results comparison"
      ],
      "metadata": {
        "id": "8khmk39THqC0"
      }
    },
    {
      "cell_type": "code",
      "source": [
        "# Count trainable parameters\n",
        "def count_trainable_params(model):\n",
        "    return sum(p.numel() for p in model.parameters() if p.requires_grad)\n",
        "\n",
        "# Print results\n",
        "print(\"VGG-16 with custom classifier:\")\n",
        "print(vgg16)\n",
        "print(f\"Number of trainable parameters: {count_trainable_params(vgg16)}\")\n",
        "print(f\"Zero-shot validation accuracy: {zero_shot_val_acc:.4f}\")\n",
        "print(f\"Zero-shot test accuracy: {zero_shot_test_acc:.4f}\")\n",
        "print(f\"SFT validation accuracy: {sft_val_acc:.4f}\")\n",
        "print(f\"SFT test accuracy: {sft_test_acc:.4f}\")\n"
      ],
      "metadata": {
        "id": "V2ayz2M8XUJ-",
        "colab": {
          "base_uri": "https://localhost:8080/"
        },
        "outputId": "edae3198-1196-49ff-bc79-907487b2e484"
      },
      "execution_count": null,
      "outputs": [
        {
          "output_type": "stream",
          "name": "stdout",
          "text": [
            "VGG-16 with custom classifier:\n",
            "VGG(\n",
            "  (features): Sequential(\n",
            "    (0): Conv2d(3, 64, kernel_size=(3, 3), stride=(1, 1), padding=(1, 1))\n",
            "    (1): ReLU(inplace=True)\n",
            "    (2): Conv2d(64, 64, kernel_size=(3, 3), stride=(1, 1), padding=(1, 1))\n",
            "    (3): ReLU(inplace=True)\n",
            "    (4): MaxPool2d(kernel_size=2, stride=2, padding=0, dilation=1, ceil_mode=False)\n",
            "    (5): Conv2d(64, 128, kernel_size=(3, 3), stride=(1, 1), padding=(1, 1))\n",
            "    (6): ReLU(inplace=True)\n",
            "    (7): Conv2d(128, 128, kernel_size=(3, 3), stride=(1, 1), padding=(1, 1))\n",
            "    (8): ReLU(inplace=True)\n",
            "    (9): MaxPool2d(kernel_size=2, stride=2, padding=0, dilation=1, ceil_mode=False)\n",
            "    (10): Conv2d(128, 256, kernel_size=(3, 3), stride=(1, 1), padding=(1, 1))\n",
            "    (11): ReLU(inplace=True)\n",
            "    (12): Conv2d(256, 256, kernel_size=(3, 3), stride=(1, 1), padding=(1, 1))\n",
            "    (13): ReLU(inplace=True)\n",
            "    (14): Conv2d(256, 256, kernel_size=(3, 3), stride=(1, 1), padding=(1, 1))\n",
            "    (15): ReLU(inplace=True)\n",
            "    (16): MaxPool2d(kernel_size=2, stride=2, padding=0, dilation=1, ceil_mode=False)\n",
            "    (17): Conv2d(256, 512, kernel_size=(3, 3), stride=(1, 1), padding=(1, 1))\n",
            "    (18): ReLU(inplace=True)\n",
            "    (19): Conv2d(512, 512, kernel_size=(3, 3), stride=(1, 1), padding=(1, 1))\n",
            "    (20): ReLU(inplace=True)\n",
            "    (21): Conv2d(512, 512, kernel_size=(3, 3), stride=(1, 1), padding=(1, 1))\n",
            "    (22): ReLU(inplace=True)\n",
            "    (23): MaxPool2d(kernel_size=2, stride=2, padding=0, dilation=1, ceil_mode=False)\n",
            "    (24): Conv2d(512, 512, kernel_size=(3, 3), stride=(1, 1), padding=(1, 1))\n",
            "    (25): ReLU(inplace=True)\n",
            "    (26): Conv2d(512, 512, kernel_size=(3, 3), stride=(1, 1), padding=(1, 1))\n",
            "    (27): ReLU(inplace=True)\n",
            "    (28): Conv2d(512, 512, kernel_size=(3, 3), stride=(1, 1), padding=(1, 1))\n",
            "    (29): ReLU(inplace=True)\n",
            "    (30): MaxPool2d(kernel_size=2, stride=2, padding=0, dilation=1, ceil_mode=False)\n",
            "  )\n",
            "  (avgpool): AdaptiveAvgPool2d(output_size=(7, 7))\n",
            "  (classifier): Sequential(\n",
            "    (0): Linear(in_features=25088, out_features=4096, bias=True)\n",
            "    (1): ReLU(inplace=True)\n",
            "    (2): Dropout(p=0.5, inplace=False)\n",
            "    (3): Linear(in_features=4096, out_features=4096, bias=True)\n",
            "    (4): ReLU(inplace=True)\n",
            "    (5): Dropout(p=0.5, inplace=False)\n",
            "    (6): Linear(in_features=4096, out_features=2, bias=True)\n",
            "  )\n",
            ")\n",
            "Number of trainable parameters: 8194\n",
            "Zero-shot validation accuracy: 0.4580\n",
            "Zero-shot test accuracy: 0.4648\n",
            "SFT validation accuracy: 0.8821\n",
            "SFT test accuracy: 0.8360\n"
          ]
        }
      ]
    },
    {
      "cell_type": "markdown",
      "source": [
        "Transfer learning provides a performance improvement when moving from the initial zero-shot stage to the supervised fine-tuning (SFT) stage. In the zero-shot setting, the pre-trained VGG-16 model, without any task-specific training, achieves a baseline performance based on its learned representations from ImageNet. During SFT, the model's classification layers are trained on the specific dataset for AI-generated fake review detection. This adaptation allows the model to learn task-relevant features, leading to a significant boost in both validation and test accuracies compared to the zero-shot results. Thus, transfer learning, specifically the fine-tuning aspect, is crucial for achieving substantial performance gains in this scenario."
      ],
      "metadata": {
        "id": "0vdvXrmIXgwU"
      }
    },
    {
      "cell_type": "markdown",
      "source": [
        "## 3. Detecting AI-generated fake reviews using text only\n",
        "\n",
        "Detector using the customer review text as the source, using LSTM arhitectutue. This LSTM only has one layer, but we will perform two approaches: 1) the embedding of the word may be joint learned with the labels; 2) a transfer learning approach to adopt the pre-trained word embedding models to fill in embedding layers. Used vector wiki-news-300d-1M.vec from [Fasttext](https://fasttext.cc/docs/en/english-vectors.html)."
      ],
      "metadata": {
        "id": "fCybDu4NnMNY"
      }
    },
    {
      "cell_type": "code",
      "source": [
        "# Tokenization and Vocabulary\n",
        "def tokenize(text):\n",
        "    return re.findall(r'\\b\\w+\\b', text.lower())\n",
        "\n",
        "# Build vocab from val_df\n",
        "texts = val_df['text'].tolist()\n",
        "labels = val_df['label'].tolist()\n",
        "tokenized_texts = [tokenize(t) for t in texts]\n",
        "word_counts = Counter([w for sent in tokenized_texts for w in sent])\n",
        "vocab = ['<PAD>', '<UNK>'] + [w for w, c in word_counts.items() if c >= 2]\n",
        "word2idx = {w: i for i, w in enumerate(vocab)}\n",
        "\n",
        "def encode(text, maxlen=100):\n",
        "    tokens = tokenize(text)\n",
        "    idxs = [word2idx.get(w, word2idx['<UNK>']) for w in tokens[:maxlen]]\n",
        "    idxs += [word2idx['<PAD>']] * (maxlen - len(idxs))\n",
        "    return idxs\n",
        "\n",
        "maxlen = 100\n",
        "X = np.array([encode(t, maxlen) for t in val_df['text']])\n",
        "y = np.array(val_df['label'])\n",
        "\n",
        "# Split for validation\n",
        "X_train, X_val, y_train, y_val = train_test_split(X, y, test_size=0.2, random_state=42)\n",
        "\n",
        "# Dataset class\n",
        "class TextDataset(Dataset):\n",
        "    def __init__(self, X, y):\n",
        "        self.X = torch.tensor(X, dtype=torch.long)\n",
        "        self.y = torch.tensor(y, dtype=torch.long)\n",
        "    def __len__(self):\n",
        "        return len(self.X)\n",
        "    def __getitem__(self, idx):\n",
        "        return self.X[idx], self.y[idx]\n",
        "\n",
        "train_ds = TextDataset(X_train, y_train)\n",
        "val_ds = TextDataset(X_val, y_val)\n",
        "train_loader = DataLoader(train_ds, batch_size=64, shuffle=True)\n",
        "val_loader = DataLoader(val_ds, batch_size=64)\n",
        "\n",
        "# LSTM Model\n",
        "class LSTMClassifier(nn.Module):\n",
        "    def __init__(self, vocab_size, emb_dim, hidden_dim, pretrained_emb=None, freeze_emb=False):\n",
        "        super().__init__()\n",
        "        self.embedding = nn.Embedding(vocab_size, emb_dim)\n",
        "        if pretrained_emb is not None:\n",
        "            self.embedding.weight.data.copy_(torch.from_numpy(pretrained_emb))\n",
        "            self.embedding.weight.requires_grad = not freeze_emb\n",
        "        self.lstm = nn.LSTM(emb_dim, hidden_dim, batch_first=True)\n",
        "        self.fc = nn.Linear(hidden_dim, 2)\n",
        "    def forward(self, x):\n",
        "        x = self.embedding(x)\n",
        "        _, (h, _) = self.lstm(x)\n",
        "        return self.fc(h[-1])\n",
        "\n",
        "# Training/Eval function\n",
        "def train_eval(model, train_loader, val_loader, epochs=5):\n",
        "    device = torch.device('cuda' if torch.cuda.is_available() else 'cpu')\n",
        "    model = model.to(device)\n",
        "    optimizer = optim.Adam(filter(lambda p: p.requires_grad, model.parameters()), lr=0.001)\n",
        "    criterion = nn.CrossEntropyLoss()\n",
        "    for epoch in range(epochs):\n",
        "        model.train()\n",
        "        for xb, yb in train_loader:\n",
        "            xb, yb = xb.to(device), yb.to(device)\n",
        "            optimizer.zero_grad()\n",
        "            out = model(xb)\n",
        "            loss = criterion(out, yb)\n",
        "            loss.backward()\n",
        "            optimizer.step()\n",
        "    # Evaluate\n",
        "    model.eval()\n",
        "    all_preds, all_true = [], []\n",
        "    with torch.no_grad():\n",
        "        for xb, yb in val_loader:\n",
        "            xb = xb.to(device)\n",
        "            preds = model(xb).argmax(1).cpu().numpy()\n",
        "            all_preds.extend(preds)\n",
        "            all_true.extend(yb.numpy())\n",
        "    acc = accuracy_score(all_true, all_preds)\n",
        "    return acc"
      ],
      "metadata": {
        "id": "so-2BbGcnMiJ"
      },
      "execution_count": null,
      "outputs": []
    },
    {
      "cell_type": "markdown",
      "source": [
        "#### Approach 1: Jointly learned embedding"
      ],
      "metadata": {
        "id": "D4KP0bIixZwI"
      }
    },
    {
      "cell_type": "code",
      "source": [
        "model1 = LSTMClassifier(len(vocab), 100, 64)\n",
        "acc1 = train_eval(model1, train_loader, val_loader)\n",
        "print(f\"Accuracy with joint-learned embedding: {acc1:.4f}\")"
      ],
      "metadata": {
        "id": "C5_chCTaZDOl",
        "colab": {
          "base_uri": "https://localhost:8080/"
        },
        "outputId": "c1edb93a-bf81-497e-bee1-77bb9ea98b01"
      },
      "execution_count": null,
      "outputs": [
        {
          "output_type": "stream",
          "name": "stdout",
          "text": [
            "Accuracy with joint-learned embedding: 0.9280\n"
          ]
        }
      ]
    },
    {
      "cell_type": "markdown",
      "source": [
        "#### Approach 2: Pretrained FastText embedding"
      ],
      "metadata": {
        "id": "PqfeCWWSxfZX"
      }
    },
    {
      "cell_type": "code",
      "source": [
        "def load_fasttext_embeddings(path, vocab, emb_dim=300):\n",
        "    embeddings = np.random.normal(scale=0.6, size=(len(vocab), emb_dim)).astype(np.float32)\n",
        "    found = 0\n",
        "    with open(path, encoding='utf-8') as f:\n",
        "        next(f)  # skip header\n",
        "        for line in tqdm(f, desc=\"Loading FastText\"):\n",
        "            parts = line.rstrip().split(' ')\n",
        "            word = parts[0]\n",
        "            if word in word2idx:\n",
        "                idx = word2idx[word]\n",
        "                vec = np.array(parts[1:], dtype=np.float32)\n",
        "                embeddings[idx] = vec\n",
        "                found += 1\n",
        "    print(f\"Loaded {found} pretrained vectors.\")\n",
        "    return embeddings\n",
        "\n",
        "# Download and extract wiki-news-300d-1M.vec\n",
        "ft_path = 'wiki-news-300d-1M.vec'\n",
        "if not os.path.exists(ft_path):\n",
        "    url = 'https://dl.fbaipublicfiles.com/fasttext/vectors-english/wiki-news-300d-1M.vec.zip'\n",
        "    r = requests.get(url)\n",
        "    z = zipfile.ZipFile(io.BytesIO(r.content))\n",
        "    z.extractall()\n",
        "    print(\"Extracted FastText vectors.\")\n",
        "\n",
        "ft_emb = load_fasttext_embeddings(ft_path, vocab, 300)\n",
        "model2 = LSTMClassifier(len(vocab), 300, 64, pretrained_emb=ft_emb, freeze_emb=False)\n",
        "acc2 = train_eval(model2, train_loader, val_loader)\n",
        "print(f\"Accuracy with pretrained FastText embedding: {acc2:.4f}\")"
      ],
      "metadata": {
        "id": "9XIHqkanZLrF",
        "colab": {
          "base_uri": "https://localhost:8080/"
        },
        "outputId": "010f7c64-bd52-4dba-fea4-74a0778e22e2"
      },
      "execution_count": null,
      "outputs": [
        {
          "output_type": "stream",
          "name": "stdout",
          "text": [
            "Extracted FastText vectors.\n"
          ]
        },
        {
          "output_type": "stream",
          "name": "stderr",
          "text": [
            "Loading FastText: 999994it [00:20, 48782.16it/s]\n"
          ]
        },
        {
          "output_type": "stream",
          "name": "stdout",
          "text": [
            "Loaded 10635 pretrained vectors.\n",
            "Accuracy with pretrained FastText embedding: 0.9839\n"
          ]
        }
      ]
    },
    {
      "cell_type": "markdown",
      "source": [
        "The results show that the LSTM model utilizing pre-trained FastText embeddings (accuracy: 0.9839) outperformed the model with jointly learned embeddings (accuracy: 0.9280). The benefit of using pre-trained embeddings lies in their ability to capture semantic relationships between words learned from a massive general-purpose corpus (like Wikipedia and news data). This allows the model to have a richer initial understanding of the language, enabling it to generalize better and achieve higher accuracy, especially when the task-specific training data might be limited. The pre-trained embeddings provide a strong foundation of linguistic knowledge, which the model can then adapt for the specific nuances of fake review detection, leading to improved performance compared to learning embeddings from scratch."
      ],
      "metadata": {
        "id": "MjoGf-qmZQFR"
      }
    },
    {
      "cell_type": "markdown",
      "source": [
        "## 4. Detecting AI-generated fake reviews using transformer\n",
        "\n",
        "Two approaches:\n",
        "1. Pretrained [RoBERTa model](https://huggingface.co/FacebookAI/roberta-base) to 1) perform zero-shot classification on test set and 2) fine-tune with validation set and predict on test set.\n",
        "\n",
        "2. Pretrained  [ViT model](https://huggingface.co/google/vit-base-patch16-224) to do the same procedures for zeero-shot classification and SFT technique on images.\n"
      ],
      "metadata": {
        "id": "mYPlN-zJnNLg"
      }
    },
    {
      "cell_type": "markdown",
      "source": [
        "###1. RoBERTa for text classification"
      ],
      "metadata": {
        "id": "r6ia4ttrZ4Ik"
      }
    },
    {
      "cell_type": "code",
      "source": [
        "# Prepare test set\n",
        "test_texts = test_df['text'].tolist()\n",
        "test_labels = test_df['label'].tolist()\n",
        "val_texts = val_df['text'].tolist()\n",
        "val_labels = val_df['label'].tolist()\n",
        "\n",
        "tokenizer = RobertaTokenizer.from_pretrained('roberta-base')\n",
        "\n",
        "class ReviewTextDataset(Dataset):\n",
        "    def __init__(self, texts, labels, tokenizer, max_length=128):\n",
        "        self.encodings = tokenizer(texts, truncation=True, padding=True, max_length=max_length)\n",
        "        self.labels = labels\n",
        "    def __getitem__(self, idx):\n",
        "        item = {key: torch.tensor(val[idx]) for key, val in self.encodings.items()}\n",
        "        item['labels'] = torch.tensor(self.labels[idx])\n",
        "        return item\n",
        "    def __len__(self):\n",
        "        return len(self.labels)\n",
        "\n",
        "test_dataset = ReviewTextDataset(test_texts, test_labels, tokenizer)\n",
        "val_dataset = ReviewTextDataset(val_texts, val_labels, tokenizer)"
      ],
      "metadata": {
        "id": "xEjG0OJEnNZX",
        "colab": {
          "base_uri": "https://localhost:8080/",
          "height": 281,
          "referenced_widgets": [
            "be9bcb25ba414077b0ba353ece7a48a6",
            "5e2cb8faf91d4310bd7efa84d5b5c2d5",
            "aa15377278904c35b025da9e5c6cf304",
            "365b9ed57c06467ebb8cdec6bd2d2fb7",
            "57d1c43aea07411bae17eb094650bf2f",
            "ae048c4b2b9a427b981444aa5c9fde69",
            "a1025d8891f04e279ea07cbe0463c77a",
            "1d5d5957bf1440bc8f5fc47e83e964c5",
            "4b7edc230b6c42809ddea524fc4302b3",
            "ca8d8e19afc54c168d853d6a925d4078",
            "5f7578f59cbd490ea2c121fa42ed1b68",
            "9e9ab7ecf5714207b0e5021c08431e33",
            "1e06d10bdea1464d84fab709c115b132",
            "5fbafaea4c174f6cbab15a3938a7dccb",
            "78b107fa04484e49a9a4163a956b41c9",
            "bc393d75929242b59a04ab52ae324bf5",
            "e399d20847c5478ab88a12f45f87005c",
            "db05c4160aaf4343b92bb3678a6f0851",
            "b4272e01b6634012b6b5d3f83ddd33de",
            "b4a7dcf8cd62432eab176bbe47ae4b14",
            "d269ffe0eaf940e58f8d3d8e546006b4",
            "9eff3bfd19df429f982cfeaebcfe584e",
            "e2df72610a1446828d6103d639fffefc",
            "1f7b0dfa26d34f8eb71f937023803f6f",
            "22100393b7e9444d92f5b459776b0799",
            "54ce31acb6f9480a81badffbca20593b",
            "5c4ddd17b7164e3ea8e5f1a7588fc104",
            "6d3473b0690b4acf83400105beb9195e",
            "ccb41a4446d8468f8391b84645bf392a",
            "5cf059535145401abe81f17437c00577",
            "2275514309b44977a658b5119ab40d89",
            "2e70dd456c9a42b3afc081667d236353",
            "4a5fccf0c5fe46c8b9a063abbdf0420b",
            "711da2dcffd54679a7ebac9b93b59895",
            "cecf6ddd770e40119861ff91b04d9ad5",
            "c5fb3f1dbef74fd5a2d075c4a2c3e3c4",
            "fdc682a9d8a04be4804559e39328c496",
            "b92076f50a4f43f8999b7e511bbbd8dd",
            "33b5e4c3e0f043cf8d879e5fe818f898",
            "98332e16461f44458e600aacf7f1e027",
            "246c171ad469458196c3d59eb8a34fb0",
            "19d60fe4a913452aaf557fc7b2cfb111",
            "e1d6e5de00ff4289993e709dfea715fd",
            "267d34f1f05b41e5ae0f1fb5d8abff74",
            "05f838427f2e49099102d9f8c9662b7f",
            "aa4e644b30bc4b61bfd80836e702e56e",
            "60923709792b4bcbaa9def86a16d3ff2",
            "67417a9a287e47adba5802745f37a9a2",
            "2f4256667de54dda8fd57c985132a095",
            "467fa8d54eb64bda8d156e499e87e6c3",
            "57370def901d4c8b9d1d7d1049b51cf7",
            "86eb80d0944e4091953abaac4242fa78",
            "23ae62841cdc46e39c0443d72419f8fb",
            "aed9c0d109c44ed6b186f8a6876b0665",
            "89dd6d6393d5491eafd4a19f58c6d224"
          ]
        },
        "outputId": "65ea2051-e657-451e-cfe1-f93167c86b5a"
      },
      "execution_count": null,
      "outputs": [
        {
          "output_type": "stream",
          "name": "stderr",
          "text": [
            "/usr/local/lib/python3.11/dist-packages/huggingface_hub/utils/_auth.py:94: UserWarning: \n",
            "The secret `HF_TOKEN` does not exist in your Colab secrets.\n",
            "To authenticate with the Hugging Face Hub, create a token in your settings tab (https://huggingface.co/settings/tokens), set it as secret in your Google Colab and restart your session.\n",
            "You will be able to reuse this secret in all of your notebooks.\n",
            "Please note that authentication is recommended but still optional to access public models or datasets.\n",
            "  warnings.warn(\n"
          ]
        },
        {
          "output_type": "display_data",
          "data": {
            "text/plain": [
              "tokenizer_config.json:   0%|          | 0.00/25.0 [00:00<?, ?B/s]"
            ],
            "application/vnd.jupyter.widget-view+json": {
              "version_major": 2,
              "version_minor": 0,
              "model_id": "be9bcb25ba414077b0ba353ece7a48a6"
            }
          },
          "metadata": {}
        },
        {
          "output_type": "display_data",
          "data": {
            "text/plain": [
              "vocab.json:   0%|          | 0.00/899k [00:00<?, ?B/s]"
            ],
            "application/vnd.jupyter.widget-view+json": {
              "version_major": 2,
              "version_minor": 0,
              "model_id": "9e9ab7ecf5714207b0e5021c08431e33"
            }
          },
          "metadata": {}
        },
        {
          "output_type": "display_data",
          "data": {
            "text/plain": [
              "merges.txt:   0%|          | 0.00/456k [00:00<?, ?B/s]"
            ],
            "application/vnd.jupyter.widget-view+json": {
              "version_major": 2,
              "version_minor": 0,
              "model_id": "e2df72610a1446828d6103d639fffefc"
            }
          },
          "metadata": {}
        },
        {
          "output_type": "display_data",
          "data": {
            "text/plain": [
              "tokenizer.json:   0%|          | 0.00/1.36M [00:00<?, ?B/s]"
            ],
            "application/vnd.jupyter.widget-view+json": {
              "version_major": 2,
              "version_minor": 0,
              "model_id": "711da2dcffd54679a7ebac9b93b59895"
            }
          },
          "metadata": {}
        },
        {
          "output_type": "display_data",
          "data": {
            "text/plain": [
              "config.json:   0%|          | 0.00/481 [00:00<?, ?B/s]"
            ],
            "application/vnd.jupyter.widget-view+json": {
              "version_major": 2,
              "version_minor": 0,
              "model_id": "05f838427f2e49099102d9f8c9662b7f"
            }
          },
          "metadata": {}
        }
      ]
    },
    {
      "cell_type": "markdown",
      "source": [
        "#### 1.1. Zero-shot: RoBERTa as feature extractor (no fine-tuning)"
      ],
      "metadata": {
        "id": "NTG0ktpqaE1G"
      }
    },
    {
      "cell_type": "code",
      "source": [
        "roberta = RobertaForSequenceClassification.from_pretrained('roberta-base', num_labels=2)\n",
        "roberta.eval()\n",
        "def roberta_predict(model, dataset):\n",
        "    loader = torch.utils.data.DataLoader(dataset, batch_size=32)\n",
        "    preds = []\n",
        "    for batch in loader:\n",
        "        with torch.no_grad():\n",
        "            outputs = model(input_ids=batch['input_ids'], attention_mask=batch['attention_mask'])\n",
        "            pred = outputs.logits.argmax(dim=1).cpu().numpy()\n",
        "            preds.extend(pred)\n",
        "    return preds\n",
        "\n",
        "zero_shot_preds = roberta_predict(roberta, test_dataset)\n",
        "zero_shot_acc = accuracy_score(test_labels, zero_shot_preds)\n",
        "print(f\"RoBERTa zero-shot test accuracy: {zero_shot_acc:.4f}\")"
      ],
      "metadata": {
        "id": "sX0phud0aKpQ",
        "colab": {
          "base_uri": "https://localhost:8080/",
          "height": 156,
          "referenced_widgets": [
            "4d61b7fa41cb48049b3be58bc20f78bc",
            "880a8f6ac0b8497e97713daf90081778",
            "356775665e7c4eefbfb33d4dfc642ad0",
            "b4996695f5ba4c9b890c0d5db5831851",
            "444e9fb14b534c2ba4f2f5e83d734088",
            "165b2001084d450db373fbebc0baa2a0",
            "66fe2eac0e874f2e9cf054680479a1c9",
            "a54a9d9c5b1a4ed69e437a8a989a9452",
            "48b6e79b16db42f0947a851520d5da70",
            "b70f7bfa7bc841d09f4c86460efe031a",
            "fa6a99a07f6846c2800dd5bb41707bc5"
          ]
        },
        "outputId": "7b1adf6f-9c66-4645-8c2e-c4a7023a4541"
      },
      "execution_count": null,
      "outputs": [
        {
          "output_type": "stream",
          "name": "stderr",
          "text": [
            "Xet Storage is enabled for this repo, but the 'hf_xet' package is not installed. Falling back to regular HTTP download. For better performance, install the package with: `pip install huggingface_hub[hf_xet]` or `pip install hf_xet`\n",
            "WARNING:huggingface_hub.file_download:Xet Storage is enabled for this repo, but the 'hf_xet' package is not installed. Falling back to regular HTTP download. For better performance, install the package with: `pip install huggingface_hub[hf_xet]` or `pip install hf_xet`\n"
          ]
        },
        {
          "output_type": "display_data",
          "data": {
            "text/plain": [
              "(…)eb5afc8b2b397fe5e04beabb9b1ef355255ade81:   0%|          | 0.00/499M [00:00<?, ?B/s]"
            ],
            "application/vnd.jupyter.widget-view+json": {
              "version_major": 2,
              "version_minor": 0,
              "model_id": "4d61b7fa41cb48049b3be58bc20f78bc"
            }
          },
          "metadata": {}
        },
        {
          "output_type": "stream",
          "name": "stderr",
          "text": [
            "Some weights of RobertaForSequenceClassification were not initialized from the model checkpoint at roberta-base and are newly initialized: ['classifier.dense.bias', 'classifier.dense.weight', 'classifier.out_proj.bias', 'classifier.out_proj.weight']\n",
            "You should probably TRAIN this model on a down-stream task to be able to use it for predictions and inference.\n"
          ]
        },
        {
          "output_type": "stream",
          "name": "stdout",
          "text": [
            "RoBERTa zero-shot test accuracy: 0.5072\n"
          ]
        }
      ]
    },
    {
      "cell_type": "markdown",
      "source": [
        "####  1.2 Fine-tune RoBERTa on validation set, test on test set"
      ],
      "metadata": {
        "id": "WItNDsPmaNch"
      }
    },
    {
      "source": [
        "training_args = TrainingArguments(\n",
        "    output_dir='./results', num_train_epochs=2, per_device_train_batch_size=16,\n",
        "    per_device_eval_batch_size=32, eval_strategy=\"no\", logging_steps=100, save_strategy=\"no\", # Changed evaluation_strategy to eval_strategy\n",
        "    learning_rate=2e-5, weight_decay=0.01, disable_tqdm=True\n",
        ")\n",
        "roberta_ft = RobertaForSequenceClassification.from_pretrained('roberta-base', num_labels=2)\n",
        "trainer = Trainer(\n",
        "    model=roberta_ft,\n",
        "    args=training_args,\n",
        "    train_dataset=val_dataset,\n",
        ")\n",
        "trainer.train()\n",
        "ft_preds = roberta_predict(roberta_ft, test_dataset)\n",
        "ft_acc = accuracy_score(test_labels, ft_preds)\n",
        "print(f\"RoBERTa fine-tuned test accuracy: {ft_acc:.4f}\")"
      ],
      "cell_type": "code",
      "metadata": {
        "colab": {
          "base_uri": "https://localhost:8080/",
          "height": 454
        },
        "id": "-ehCd6YIPbE4",
        "outputId": "1aee5fc6-4ce3-4b85-c1da-a4789defba21"
      },
      "execution_count": null,
      "outputs": [
        {
          "output_type": "stream",
          "name": "stderr",
          "text": [
            "Some weights of RobertaForSequenceClassification were not initialized from the model checkpoint at roberta-base and are newly initialized: ['classifier.dense.bias', 'classifier.dense.weight', 'classifier.out_proj.bias', 'classifier.out_proj.weight']\n",
            "You should probably TRAIN this model on a down-stream task to be able to use it for predictions and inference.\n",
            "\u001b[34m\u001b[1mwandb\u001b[0m: \u001b[33mWARNING\u001b[0m The `run_name` is currently set to the same value as `TrainingArguments.output_dir`. If this was not intended, please specify a different run name by setting the `TrainingArguments.run_name` parameter.\n"
          ]
        },
        {
          "output_type": "display_data",
          "data": {
            "text/plain": [
              "<IPython.core.display.Javascript object>"
            ],
            "application/javascript": [
              "\n",
              "        window._wandbApiKey = new Promise((resolve, reject) => {\n",
              "            function loadScript(url) {\n",
              "            return new Promise(function(resolve, reject) {\n",
              "                let newScript = document.createElement(\"script\");\n",
              "                newScript.onerror = reject;\n",
              "                newScript.onload = resolve;\n",
              "                document.body.appendChild(newScript);\n",
              "                newScript.src = url;\n",
              "            });\n",
              "            }\n",
              "            loadScript(\"https://cdn.jsdelivr.net/npm/postmate/build/postmate.min.js\").then(() => {\n",
              "            const iframe = document.createElement('iframe')\n",
              "            iframe.style.cssText = \"width:0;height:0;border:none\"\n",
              "            document.body.appendChild(iframe)\n",
              "            const handshake = new Postmate({\n",
              "                container: iframe,\n",
              "                url: 'https://wandb.ai/authorize'\n",
              "            });\n",
              "            const timeout = setTimeout(() => reject(\"Couldn't auto authenticate\"), 5000)\n",
              "            handshake.then(function(child) {\n",
              "                child.on('authorize', data => {\n",
              "                    clearTimeout(timeout)\n",
              "                    resolve(data)\n",
              "                });\n",
              "            });\n",
              "            })\n",
              "        });\n",
              "    "
            ]
          },
          "metadata": {}
        },
        {
          "output_type": "stream",
          "name": "stderr",
          "text": [
            "\u001b[34m\u001b[1mwandb\u001b[0m: Logging into wandb.ai. (Learn how to deploy a W&B server locally: https://wandb.me/wandb-server)\n",
            "\u001b[34m\u001b[1mwandb\u001b[0m: You can find your API key in your browser here: https://wandb.ai/authorize?ref=models\n",
            "wandb: Paste an API key from your profile and hit enter:"
          ]
        },
        {
          "name": "stdout",
          "output_type": "stream",
          "text": [
            " ··········\n"
          ]
        },
        {
          "output_type": "stream",
          "name": "stderr",
          "text": [
            "\u001b[34m\u001b[1mwandb\u001b[0m: \u001b[33mWARNING\u001b[0m If you're specifying your api key in code, ensure this code is not shared publicly.\n",
            "\u001b[34m\u001b[1mwandb\u001b[0m: \u001b[33mWARNING\u001b[0m Consider setting the WANDB_API_KEY environment variable, or running `wandb login` from the command line.\n",
            "\u001b[34m\u001b[1mwandb\u001b[0m: No netrc file found, creating one.\n",
            "\u001b[34m\u001b[1mwandb\u001b[0m: Appending key for api.wandb.ai to your netrc file: /root/.netrc\n",
            "\u001b[34m\u001b[1mwandb\u001b[0m: Currently logged in as: \u001b[33mjulianamafini\u001b[0m (\u001b[33mjulianamafini-nova-sbe\u001b[0m) to \u001b[32mhttps://api.wandb.ai\u001b[0m. Use \u001b[1m`wandb login --relogin`\u001b[0m to force relogin\n"
          ]
        },
        {
          "output_type": "display_data",
          "data": {
            "text/plain": [
              "<IPython.core.display.HTML object>"
            ],
            "text/html": [
              "Tracking run with wandb version 0.19.11"
            ]
          },
          "metadata": {}
        },
        {
          "output_type": "display_data",
          "data": {
            "text/plain": [
              "<IPython.core.display.HTML object>"
            ],
            "text/html": [
              "Run data is saved locally in <code>/content/wandb/run-20250517_225430-71gnc6h3</code>"
            ]
          },
          "metadata": {}
        },
        {
          "output_type": "display_data",
          "data": {
            "text/plain": [
              "<IPython.core.display.HTML object>"
            ],
            "text/html": [
              "Syncing run <strong><a href='https://wandb.ai/julianamafini-nova-sbe/huggingface/runs/71gnc6h3' target=\"_blank\">./results</a></strong> to <a href='https://wandb.ai/julianamafini-nova-sbe/huggingface' target=\"_blank\">Weights & Biases</a> (<a href='https://wandb.me/developer-guide' target=\"_blank\">docs</a>)<br>"
            ]
          },
          "metadata": {}
        },
        {
          "output_type": "display_data",
          "data": {
            "text/plain": [
              "<IPython.core.display.HTML object>"
            ],
            "text/html": [
              " View project at <a href='https://wandb.ai/julianamafini-nova-sbe/huggingface' target=\"_blank\">https://wandb.ai/julianamafini-nova-sbe/huggingface</a>"
            ]
          },
          "metadata": {}
        },
        {
          "output_type": "display_data",
          "data": {
            "text/plain": [
              "<IPython.core.display.HTML object>"
            ],
            "text/html": [
              " View run at <a href='https://wandb.ai/julianamafini-nova-sbe/huggingface/runs/71gnc6h3' target=\"_blank\">https://wandb.ai/julianamafini-nova-sbe/huggingface/runs/71gnc6h3</a>"
            ]
          },
          "metadata": {}
        },
        {
          "output_type": "stream",
          "name": "stdout",
          "text": [
            "{'loss': 0.1879, 'grad_norm': 0.03574594855308533, 'learning_rate': 1.6071428571428572e-05, 'epoch': 0.3968253968253968}\n",
            "{'loss': 0.0148, 'grad_norm': 0.009927497245371342, 'learning_rate': 1.2103174603174603e-05, 'epoch': 0.7936507936507936}\n",
            "{'loss': 0.0194, 'grad_norm': 0.03694852069020271, 'learning_rate': 8.134920634920636e-06, 'epoch': 1.1904761904761905}\n",
            "{'loss': 0.0016, 'grad_norm': 0.004436303395777941, 'learning_rate': 4.166666666666667e-06, 'epoch': 1.5873015873015874}\n",
            "{'loss': 0.0002, 'grad_norm': 0.004167582839727402, 'learning_rate': 1.9841269841269841e-07, 'epoch': 1.9841269841269842}\n",
            "{'train_runtime': 10412.6063, 'train_samples_per_second': 0.774, 'train_steps_per_second': 0.048, 'train_loss': 0.044445347806368586, 'epoch': 2.0}\n",
            "RoBERTa fine-tuned test accuracy: 0.9983\n"
          ]
        }
      ]
    },
    {
      "cell_type": "markdown",
      "source": [
        "The results show that using a transformer model like RoBERTa significantly improves performance when fine-tuned on the specific task. The zero-shot classification achieved an accuracy of only 0.5072, barely above random chance, indicating that the pre-trained model alone cannot generalize well to fake review detection without adaptation. However, after fine-tuning on the validation set, the test accuracy jumped to 0.9983, demonstrating that the transformer architecture is highly effective at capturing task-specific patterns when given labeled data. That said, such a near-perfect accuracy may also indicate potential overfitting, especially if the test set is small or not representative, so further validation on unseen data would be important to confirm the model's generalization ability."
      ],
      "metadata": {
        "id": "OO9mPW2QZpr4"
      }
    },
    {
      "cell_type": "markdown",
      "source": [
        "### 2. ViT for image classification"
      ],
      "metadata": {
        "id": "x6GxM7QQaaQp"
      }
    },
    {
      "source": [
        "# Prepare image dataset for ViT\n",
        "vit_extractor = ViTFeatureExtractor.from_pretrained('google/vit-base-patch16-224')\n",
        "vit_transform = transforms.Compose([\n",
        "    transforms.Resize((224, 224)),\n",
        "    transforms.ToTensor(),\n",
        "    transforms.Lambda(lambda x: x.repeat(3, 1, 1) if x.shape[0] == 1 else x)\n",
        "])\n",
        "\n",
        "class ReviewImageDatasetViT(Dataset):\n",
        "    def __init__(self, df, img_dir, extractor):\n",
        "        self.df = df\n",
        "        self.img_dir = img_dir\n",
        "        self.extractor = extractor\n",
        "    def __len__(self):\n",
        "        return len(self.df)\n",
        "    def __getitem__(self, idx):\n",
        "        img_id = self.df.iloc[idx]['ID']\n",
        "        label = self.df.iloc[idx]['label']\n",
        "        img_path = os.path.join(self.img_dir, f\"{img_id}.jpg\")\n",
        "        image = Image.open(img_path).convert('RGB')\n",
        "        inputs = self.extractor(images=image, return_tensors=\"pt\")\n",
        "        item = {k: v.squeeze(0) for k, v in inputs.items()}\n",
        "        item['labels'] = torch.tensor(label)\n",
        "        return item\n",
        "\n",
        "test_img_dataset = ReviewImageDatasetViT(test_df, img_dir, vit_extractor)\n",
        "val_img_dataset = ReviewImageDatasetViT(val_df, img_dir, vit_extractor)"
      ],
      "cell_type": "code",
      "metadata": {
        "colab": {
          "base_uri": "https://localhost:8080/"
        },
        "id": "hZhHTDSD7KCA",
        "outputId": "80e567db-5883-4396-9833-1cde95471a5d"
      },
      "execution_count": null,
      "outputs": [
        {
          "output_type": "stream",
          "name": "stderr",
          "text": [
            "/usr/local/lib/python3.11/dist-packages/transformers/models/vit/feature_extraction_vit.py:28: FutureWarning: The class ViTFeatureExtractor is deprecated and will be removed in version 5 of Transformers. Please use ViTImageProcessor instead.\n",
            "  warnings.warn(\n"
          ]
        }
      ]
    },
    {
      "cell_type": "markdown",
      "source": [
        "#### 2.1 Zero-shot ViT"
      ],
      "metadata": {
        "id": "ru4_QuRuaf4J"
      }
    },
    {
      "source": [
        "vit = ViTForImageClassification.from_pretrained('google/vit-base-patch16-224', num_labels=2, ignore_mismatched_sizes=True)\n",
        "vit.eval()\n",
        "def vit_predict(model, dataset):\n",
        "    loader = torch.utils.data.DataLoader(dataset, batch_size=16)\n",
        "    preds = []\n",
        "    for batch in tqdm(loader, desc=\"Predicting with ViT\"):\n",
        "        with torch.no_grad():\n",
        "            outputs = model(pixel_values=batch['pixel_values'])\n",
        "            pred = outputs.logits.argmax(dim=1).cpu().numpy()\n",
        "            preds.extend(pred)\n",
        "    return preds\n",
        "\n",
        "vit_zero_preds = vit_predict(vit, test_img_dataset)\n",
        "vit_zero_acc = accuracy_score(test_df['label'], vit_zero_preds)\n",
        "print(f\"ViT zero-shot test accuracy: {vit_zero_acc:.4f}\")"
      ],
      "cell_type": "code",
      "metadata": {
        "colab": {
          "base_uri": "https://localhost:8080/"
        },
        "id": "Eb22N3ri8v7y",
        "outputId": "74db6eda-a8fe-4b88-eb49-03b8c44c022f"
      },
      "execution_count": null,
      "outputs": [
        {
          "output_type": "stream",
          "name": "stderr",
          "text": [
            "Some weights of ViTForImageClassification were not initialized from the model checkpoint at google/vit-base-patch16-224 and are newly initialized because the shapes did not match:\n",
            "- classifier.bias: found shape torch.Size([1000]) in the checkpoint and torch.Size([2]) in the model instantiated\n",
            "- classifier.weight: found shape torch.Size([1000, 768]) in the checkpoint and torch.Size([2, 768]) in the model instantiated\n",
            "You should probably TRAIN this model on a down-stream task to be able to use it for predictions and inference.\n",
            "Predicting with ViT: 100%|██████████| 252/252 [46:04<00:00, 10.97s/it]"
          ]
        },
        {
          "output_type": "stream",
          "name": "stdout",
          "text": [
            "ViT zero-shot test accuracy: 0.5303\n"
          ]
        },
        {
          "output_type": "stream",
          "name": "stderr",
          "text": [
            "\n"
          ]
        }
      ]
    },
    {
      "cell_type": "markdown",
      "source": [
        "#### 2.2 Fine-tune ViT on validation set, test on test set"
      ],
      "metadata": {
        "id": "qj8sjchbarPZ"
      }
    },
    {
      "source": [
        "vit_ft = ViTForImageClassification.from_pretrained('google/vit-base-patch16-224', num_labels=2, ignore_mismatched_sizes=True)\n",
        "training_args_img = TrainingArguments(\n",
        "    output_dir='./results_vit', num_train_epochs=1, per_device_train_batch_size=16,\n",
        "    per_device_eval_batch_size=16, eval_strategy=\"no\", logging_steps=100, save_strategy=\"no\",\n",
        "    learning_rate=2e-5, weight_decay=0.01, disable_tqdm=False\n",
        ")\n",
        "trainer_img = Trainer(\n",
        "    model=vit_ft,\n",
        "    args=training_args_img,\n",
        "    train_dataset=val_img_dataset,\n",
        ")\n",
        "trainer_img.train()\n",
        "vit_ft_preds = vit_predict(vit_ft, test_img_dataset)\n",
        "vit_ft_acc = accuracy_score(test_df['label'], vit_ft_preds)\n",
        "print(f\"ViT fine-tuned test accuracy: {vit_ft_acc:.4f}\")"
      ],
      "cell_type": "code",
      "metadata": {
        "colab": {
          "base_uri": "https://localhost:8080/",
          "height": 485
        },
        "id": "ySPykic3KZvF",
        "outputId": "7f207538-6047-40f3-b33e-d5245918af70"
      },
      "execution_count": null,
      "outputs": [
        {
          "metadata": {
            "tags": null
          },
          "name": "stderr",
          "output_type": "stream",
          "text": [
            "Some weights of ViTForImageClassification were not initialized from the model checkpoint at google/vit-base-patch16-224 and are newly initialized because the shapes did not match:\n",
            "- classifier.bias: found shape torch.Size([1000]) in the checkpoint and torch.Size([2]) in the model instantiated\n",
            "- classifier.weight: found shape torch.Size([1000, 768]) in the checkpoint and torch.Size([2, 768]) in the model instantiated\n",
            "You should probably TRAIN this model on a down-stream task to be able to use it for predictions and inference.\n",
            "\u001b[34m\u001b[1mwandb\u001b[0m: \u001b[33mWARNING\u001b[0m The `run_name` is currently set to the same value as `TrainingArguments.output_dir`. If this was not intended, please specify a different run name by setting the `TrainingArguments.run_name` parameter.\n"
          ]
        },
        {
          "data": {
            "application/javascript": [
              "\n",
              "        window._wandbApiKey = new Promise((resolve, reject) => {\n",
              "            function loadScript(url) {\n",
              "            return new Promise(function(resolve, reject) {\n",
              "                let newScript = document.createElement(\"script\");\n",
              "                newScript.onerror = reject;\n",
              "                newScript.onload = resolve;\n",
              "                document.body.appendChild(newScript);\n",
              "                newScript.src = url;\n",
              "            });\n",
              "            }\n",
              "            loadScript(\"https://cdn.jsdelivr.net/npm/postmate/build/postmate.min.js\").then(() => {\n",
              "            const iframe = document.createElement('iframe')\n",
              "            iframe.style.cssText = \"width:0;height:0;border:none\"\n",
              "            document.body.appendChild(iframe)\n",
              "            const handshake = new Postmate({\n",
              "                container: iframe,\n",
              "                url: 'https://wandb.ai/authorize'\n",
              "            });\n",
              "            const timeout = setTimeout(() => reject(\"Couldn't auto authenticate\"), 5000)\n",
              "            handshake.then(function(child) {\n",
              "                child.on('authorize', data => {\n",
              "                    clearTimeout(timeout)\n",
              "                    resolve(data)\n",
              "                });\n",
              "            });\n",
              "            })\n",
              "        });\n",
              "    "
            ],
            "text/plain": [
              "<IPython.core.display.Javascript object>"
            ]
          },
          "metadata": {},
          "output_type": "display_data"
        },
        {
          "metadata": {
            "tags": null
          },
          "name": "stderr",
          "output_type": "stream",
          "text": [
            "\u001b[34m\u001b[1mwandb\u001b[0m: Logging into wandb.ai. (Learn how to deploy a W&B server locally: https://wandb.me/wandb-server)\n",
            "\u001b[34m\u001b[1mwandb\u001b[0m: You can find your API key in your browser here: https://wandb.ai/authorize?ref=models\n",
            "wandb: Paste an API key from your profile and hit enter:\u001b[34m\u001b[1mwandb\u001b[0m: \u001b[33mWARNING\u001b[0m If you're specifying your api key in code, ensure this code is not shared publicly.\n",
            "\u001b[34m\u001b[1mwandb\u001b[0m: \u001b[33mWARNING\u001b[0m Consider setting the WANDB_API_KEY environment variable, or running `wandb login` from the command line.\n",
            "\u001b[34m\u001b[1mwandb\u001b[0m: No netrc file found, creating one.\n",
            "\u001b[34m\u001b[1mwandb\u001b[0m: Appending key for api.wandb.ai to your netrc file: /root/.netrc\n",
            "\u001b[34m\u001b[1mwandb\u001b[0m: Currently logged in as: \u001b[33mjulianamafini\u001b[0m (\u001b[33mjulianamafini-nova-sbe\u001b[0m) to \u001b[32mhttps://api.wandb.ai\u001b[0m. Use \u001b[1m`wandb login --relogin`\u001b[0m to force relogin\n"
          ]
        },
        {
          "data": {
            "text/html": [
              "Tracking run with wandb version 0.19.11"
            ],
            "text/plain": [
              "<IPython.core.display.HTML object>"
            ]
          },
          "metadata": {},
          "output_type": "display_data"
        },
        {
          "data": {
            "text/html": [
              "Run data is saved locally in <code>/content/wandb/run-20250518_123011-3uqompwc</code>"
            ],
            "text/plain": [
              "<IPython.core.display.HTML object>"
            ]
          },
          "metadata": {},
          "output_type": "display_data"
        },
        {
          "data": {
            "text/html": [
              "Syncing run <strong><a href='https://wandb.ai/julianamafini-nova-sbe/huggingface/runs/3uqompwc' target=\"_blank\">./results_vit</a></strong> to <a href='https://wandb.ai/julianamafini-nova-sbe/huggingface' target=\"_blank\">Weights & Biases</a> (<a href='https://wandb.me/developer-guide' target=\"_blank\">docs</a>)<br>"
            ],
            "text/plain": [
              "<IPython.core.display.HTML object>"
            ]
          },
          "metadata": {},
          "output_type": "display_data"
        },
        {
          "data": {
            "text/html": [
              " View project at <a href='https://wandb.ai/julianamafini-nova-sbe/huggingface' target=\"_blank\">https://wandb.ai/julianamafini-nova-sbe/huggingface</a>"
            ],
            "text/plain": [
              "<IPython.core.display.HTML object>"
            ]
          },
          "metadata": {},
          "output_type": "display_data"
        },
        {
          "data": {
            "text/html": [
              " View run at <a href='https://wandb.ai/julianamafini-nova-sbe/huggingface/runs/3uqompwc' target=\"_blank\">https://wandb.ai/julianamafini-nova-sbe/huggingface/runs/3uqompwc</a>"
            ],
            "text/plain": [
              "<IPython.core.display.HTML object>"
            ]
          },
          "metadata": {},
          "output_type": "display_data"
        },
        {
          "data": {
            "text/html": [
              "\n",
              "    <div>\n",
              "      \n",
              "      <progress value='252' max='252' style='width:300px; height:20px; vertical-align: middle;'></progress>\n",
              "      [252/252 1:48:34, Epoch 1/1]\n",
              "    </div>\n",
              "    <table border=\"1\" class=\"dataframe\">\n",
              "  <thead>\n",
              " <tr style=\"text-align: left;\">\n",
              "      <th>Step</th>\n",
              "      <th>Training Loss</th>\n",
              "    </tr>\n",
              "  </thead>\n",
              "  <tbody>\n",
              "    <tr>\n",
              "      <td>100</td>\n",
              "      <td>0.271700</td>\n",
              "    </tr>\n",
              "    <tr>\n",
              "      <td>200</td>\n",
              "      <td>0.033200</td>\n",
              "    </tr>\n",
              "  </tbody>\n",
              "</table><p>"
            ],
            "text/plain": [
              "<IPython.core.display.HTML object>"
            ]
          },
          "metadata": {},
          "output_type": "display_data"
        },
        {
          "output_type": "stream",
          "name": "stderr",
          "text": [
            "Predicting with ViT: 100%|██████████| 252/252 [32:32<00:00,  7.75s/it]"
          ]
        },
        {
          "output_type": "stream",
          "name": "stdout",
          "text": [
            "ViT fine-tuned test accuracy: 0.9901\n"
          ]
        },
        {
          "output_type": "stream",
          "name": "stderr",
          "text": [
            "\n"
          ]
        }
      ]
    },
    {
      "cell_type": "markdown",
      "source": [
        "The ViT (Vision Transformer) model also demonstrated a significant improvement in performance after fine-tuning. In the zero-shot setting, it achieved a test accuracy of 0.5303, indicating limited capability to generalize to the image classification task without task-specific training. However, after applying supervised fine-tuning (SFT), the test accuracy rose to 0.9901. This substantial gain highlights the effectiveness of fine-tuning transformer-based models on domain-specific data. Similar to the RoBERTa case, such a high accuracy may suggest potential overfitting, especially if the dataset is small or lacks diversity, so additional evaluation on an external or more diverse test set would be important to confirm generalizability."
      ],
      "metadata": {
        "id": "5lfGxbswZzdA"
      }
    },
    {
      "cell_type": "markdown",
      "source": [
        "## Detecting AI-generated fake reviews with LLM model\n",
        "\n",
        "LLM model to perform review detection text using Google Gemini API.\n"
      ],
      "metadata": {
        "id": "EM8pVwioycRz"
      }
    },
    {
      "cell_type": "code",
      "source": [
        "# Set your Gemini API key here\n",
        "GEMINI_API_KEY = \"XX\"\n",
        "GEMINI_URL = \"https://generativelanguage.googleapis.com/v1beta/models/gemini-1.5-flash:generateContent?key=\" + GEMINI_API_KEY\n",
        "\n",
        "def gemini_classify(review, examples=None):\n",
        "    if examples:\n",
        "        # Few-shot: prepend more diverse and balanced examples to the prompt\n",
        "        prompt = \"You are a fake review detector. Label each review as 0 (authentic) or 1 (AI-generated).\\n\"\n",
        "        for ex in examples:\n",
        "            # Truncate example text for prompt length\n",
        "            ex_text = ex['text'][:200].replace('\\n', ' ')\n",
        "            prompt += f\"Review: {ex_text}\\nLabel: {ex['label']}\\n\"\n",
        "        review_text = review[:200].replace('\\n', ' ')\n",
        "        prompt += f\"Review: {review_text}\\nLabel:\"\n",
        "    else:\n",
        "        # Zero-shot: just ask for the label\n",
        "        review_text = review[:200].replace('\\n', ' ')\n",
        "        prompt = f\"Is the following review authentic (0) or AI-generated (1)?\\nReview: {review_text}\\nLabel:\"\n",
        "\n",
        "    data = {\n",
        "        \"contents\": [{\"parts\": [{\"text\": prompt}]}],\n",
        "        \"generationConfig\": {\"maxOutputTokens\": 10}\n",
        "    }\n",
        "    response = requests.post(GEMINI_URL, json=data)\n",
        "    try:\n",
        "        label = response.json()['candidates'][0]['content']['parts'][0]['text'].strip()\n",
        "        # rint(label)\n",
        "        # Extract first digit (0 or 1)\n",
        "        label = int(label[0]) if label[0] in \"01\" else 0\n",
        "    except Exception:\n",
        "        label = 0\n",
        "    return label\n",
        "\n",
        "# Evaluate on a small subset for demo\n",
        "N = 20  # Number of samples to test\n",
        "sample_df = test_df.sample(N, random_state=42)\n",
        "texts = sample_df['text'].tolist()\n",
        "true_labels = sample_df['label'].tolist()\n",
        "\n",
        "# Zero-shot\n",
        "zero_shot_preds = []\n",
        "for t in texts:\n",
        "    zero_shot_preds.append(gemini_classify(t))\n",
        "    time.sleep(1)  # avoid rate limit\n",
        "\n",
        "zero_shot_acc = accuracy_score(true_labels, zero_shot_preds)\n",
        "print(f\"Gemini zero-shot accuracy (N={N}): {zero_shot_acc:.4f}\")\n",
        "\n",
        "# Few-shot (use 20 diverse examples: 10 authentic, 10 AI-generated)\n",
        "auth_examples = val_df[val_df['label'] == 0].sample(10, random_state=1)[['text', 'label']].to_dict('records')\n",
        "ai_examples = val_df[val_df['label'] == 1].sample(10, random_state=2)[['text', 'label']].to_dict('records')\n",
        "few_shot_examples = auth_examples + ai_examples\n",
        "\n",
        "few_shot_preds = []\n",
        "for t in texts:\n",
        "    few_shot_preds.append(gemini_classify(t, examples=few_shot_examples))\n",
        "    time.sleep(1)\n",
        "\n",
        "few_shot_acc = accuracy_score(true_labels, few_shot_preds)\n",
        "print(f\"Gemini few-shot accuracy (N={N}): {few_shot_acc:.4f}\")"
      ],
      "metadata": {
        "colab": {
          "base_uri": "https://localhost:8080/"
        },
        "id": "gEvYWWe7vISN",
        "outputId": "3aaa16e3-c311-412a-a88e-4bdc43bb9196"
      },
      "execution_count": null,
      "outputs": [
        {
          "output_type": "stream",
          "name": "stdout",
          "text": [
            "Gemini zero-shot accuracy (N=20): 0.4500\n",
            "Gemini few-shot accuracy (N=20): 0.5500\n"
          ]
        }
      ]
    },
    {
      "cell_type": "markdown",
      "source": [
        "In the zero-shot setting, the model achieved an accuracy of 0.4500, indicating limited ability to detect fake reviews without prior context. However, when provided with a few labeled examples in the prompt (few-shot), the accuracy increased to 0.5500. Although the improvement is modest, it suggests that the model benefits from seeing examples of the task, helping it better understand the labeling criteria. The small test size (N=20) and the lightweight nature of Gemini Flash may limit the observed gains, but the results still support the general trend that few-shot prompting improves performance over zero-shot for this task."
      ],
      "metadata": {
        "id": "gMx5H-HYbO7m"
      }
    }
  ]
}